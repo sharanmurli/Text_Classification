{
 "cells": [
  {
   "cell_type": "markdown",
   "id": "35585847",
   "metadata": {},
   "source": [
    "<center><h1>Murli_Sharan_Project</h1></center>\n",
    "<br>\n",
    "<center><h3 size=\"3\">DSML PROJECT</h3></center>\n",
    "<center><h3 size=\"3\">Text Classification</h3></center>\n",
    "\n",
    "\n",
    "<br>\n",
    "<center><h5>Name: Sharan Murli</h5></center>\n",
    "<center><h5>USC ID: 5232838315</h5></center>\n",
    "<center><h5>Github Username: sharanmurli</h5></center>"
   ]
  },
  {
   "cell_type": "markdown",
   "id": "dd2fa579",
   "metadata": {},
   "source": [
    "<h3>Q1. Text Classification</h3>"
   ]
  },
  {
   "cell_type": "markdown",
   "id": "d7ecb8db",
   "metadata": {},
   "source": [
    "<h3>It is highly recommended that you complete this project using Keras and Python</h3>"
   ]
  },
  {
   "cell_type": "code",
   "execution_count": 1,
   "id": "f9fb9819",
   "metadata": {},
   "outputs": [
    {
     "name": "stdout",
     "output_type": "stream",
     "text": [
      "Requirement already satisfied: tensorflow in c:\\users\\sharan murli\\anaconda3\\lib\\site-packages (2.16.1)\n",
      "Requirement already satisfied: tensorflow-intel==2.16.1 in c:\\users\\sharan murli\\anaconda3\\lib\\site-packages (from tensorflow) (2.16.1)\n",
      "Requirement already satisfied: absl-py>=1.0.0 in c:\\users\\sharan murli\\anaconda3\\lib\\site-packages (from tensorflow-intel==2.16.1->tensorflow) (2.1.0)\n",
      "Requirement already satisfied: astunparse>=1.6.0 in c:\\users\\sharan murli\\anaconda3\\lib\\site-packages (from tensorflow-intel==2.16.1->tensorflow) (1.6.3)\n",
      "Requirement already satisfied: flatbuffers>=23.5.26 in c:\\users\\sharan murli\\anaconda3\\lib\\site-packages (from tensorflow-intel==2.16.1->tensorflow) (24.3.25)\n",
      "Requirement already satisfied: gast!=0.5.0,!=0.5.1,!=0.5.2,>=0.2.1 in c:\\users\\sharan murli\\anaconda3\\lib\\site-packages (from tensorflow-intel==2.16.1->tensorflow) (0.5.4)\n",
      "Requirement already satisfied: google-pasta>=0.1.1 in c:\\users\\sharan murli\\anaconda3\\lib\\site-packages (from tensorflow-intel==2.16.1->tensorflow) (0.2.0)\n",
      "Requirement already satisfied: h5py>=3.10.0 in c:\\users\\sharan murli\\anaconda3\\lib\\site-packages (from tensorflow-intel==2.16.1->tensorflow) (3.11.0)\n",
      "Requirement already satisfied: libclang>=13.0.0 in c:\\users\\sharan murli\\anaconda3\\lib\\site-packages (from tensorflow-intel==2.16.1->tensorflow) (18.1.1)\n",
      "Requirement already satisfied: ml-dtypes~=0.3.1 in c:\\users\\sharan murli\\anaconda3\\lib\\site-packages (from tensorflow-intel==2.16.1->tensorflow) (0.3.2)\n",
      "Requirement already satisfied: opt-einsum>=2.3.2 in c:\\users\\sharan murli\\anaconda3\\lib\\site-packages (from tensorflow-intel==2.16.1->tensorflow) (3.3.0)\n",
      "Requirement already satisfied: packaging in c:\\users\\sharan murli\\anaconda3\\lib\\site-packages (from tensorflow-intel==2.16.1->tensorflow) (23.1)\n",
      "Requirement already satisfied: protobuf!=4.21.0,!=4.21.1,!=4.21.2,!=4.21.3,!=4.21.4,!=4.21.5,<5.0.0dev,>=3.20.3 in c:\\users\\sharan murli\\anaconda3\\lib\\site-packages (from tensorflow-intel==2.16.1->tensorflow) (4.25.3)\n",
      "Requirement already satisfied: requests<3,>=2.21.0 in c:\\users\\sharan murli\\anaconda3\\lib\\site-packages (from tensorflow-intel==2.16.1->tensorflow) (2.31.0)\n",
      "Requirement already satisfied: setuptools in c:\\users\\sharan murli\\anaconda3\\lib\\site-packages (from tensorflow-intel==2.16.1->tensorflow) (69.5.1)\n",
      "Requirement already satisfied: six>=1.12.0 in c:\\users\\sharan murli\\anaconda3\\lib\\site-packages (from tensorflow-intel==2.16.1->tensorflow) (1.16.0)\n",
      "Requirement already satisfied: termcolor>=1.1.0 in c:\\users\\sharan murli\\anaconda3\\lib\\site-packages (from tensorflow-intel==2.16.1->tensorflow) (2.4.0)\n",
      "Requirement already satisfied: typing-extensions>=3.6.6 in c:\\users\\sharan murli\\anaconda3\\lib\\site-packages (from tensorflow-intel==2.16.1->tensorflow) (4.11.0)\n",
      "Requirement already satisfied: wrapt>=1.11.0 in c:\\users\\sharan murli\\anaconda3\\lib\\site-packages (from tensorflow-intel==2.16.1->tensorflow) (1.14.1)\n",
      "Requirement already satisfied: grpcio<2.0,>=1.24.3 in c:\\users\\sharan murli\\anaconda3\\lib\\site-packages (from tensorflow-intel==2.16.1->tensorflow) (1.62.2)\n",
      "Requirement already satisfied: tensorboard<2.17,>=2.16 in c:\\users\\sharan murli\\anaconda3\\lib\\site-packages (from tensorflow-intel==2.16.1->tensorflow) (2.16.2)\n",
      "Requirement already satisfied: keras>=3.0.0 in c:\\users\\sharan murli\\anaconda3\\lib\\site-packages (from tensorflow-intel==2.16.1->tensorflow) (3.3.3)\n",
      "Requirement already satisfied: tensorflow-io-gcs-filesystem>=0.23.1 in c:\\users\\sharan murli\\anaconda3\\lib\\site-packages (from tensorflow-intel==2.16.1->tensorflow) (0.31.0)\n",
      "Requirement already satisfied: numpy<2.0.0,>=1.23.5 in c:\\users\\sharan murli\\anaconda3\\lib\\site-packages (from tensorflow-intel==2.16.1->tensorflow) (1.26.4)\n",
      "Requirement already satisfied: wheel<1.0,>=0.23.0 in c:\\users\\sharan murli\\anaconda3\\lib\\site-packages (from astunparse>=1.6.0->tensorflow-intel==2.16.1->tensorflow) (0.43.0)\n",
      "Requirement already satisfied: rich in c:\\users\\sharan murli\\anaconda3\\lib\\site-packages (from keras>=3.0.0->tensorflow-intel==2.16.1->tensorflow) (13.7.1)\n",
      "Requirement already satisfied: namex in c:\\users\\sharan murli\\anaconda3\\lib\\site-packages (from keras>=3.0.0->tensorflow-intel==2.16.1->tensorflow) (0.0.8)\n",
      "Requirement already satisfied: optree in c:\\users\\sharan murli\\anaconda3\\lib\\site-packages (from keras>=3.0.0->tensorflow-intel==2.16.1->tensorflow) (0.11.0)\n",
      "Requirement already satisfied: charset-normalizer<4,>=2 in c:\\users\\sharan murli\\anaconda3\\lib\\site-packages (from requests<3,>=2.21.0->tensorflow-intel==2.16.1->tensorflow) (2.0.4)\n",
      "Requirement already satisfied: idna<4,>=2.5 in c:\\users\\sharan murli\\anaconda3\\lib\\site-packages (from requests<3,>=2.21.0->tensorflow-intel==2.16.1->tensorflow) (3.4)\n",
      "Requirement already satisfied: urllib3<3,>=1.21.1 in c:\\users\\sharan murli\\anaconda3\\lib\\site-packages (from requests<3,>=2.21.0->tensorflow-intel==2.16.1->tensorflow) (1.26.16)\n",
      "Requirement already satisfied: certifi>=2017.4.17 in c:\\users\\sharan murli\\anaconda3\\lib\\site-packages (from requests<3,>=2.21.0->tensorflow-intel==2.16.1->tensorflow) (2023.7.22)\n",
      "Requirement already satisfied: markdown>=2.6.8 in c:\\users\\sharan murli\\anaconda3\\lib\\site-packages (from tensorboard<2.17,>=2.16->tensorflow-intel==2.16.1->tensorflow) (3.4.1)\n",
      "Requirement already satisfied: tensorboard-data-server<0.8.0,>=0.7.0 in c:\\users\\sharan murli\\anaconda3\\lib\\site-packages (from tensorboard<2.17,>=2.16->tensorflow-intel==2.16.1->tensorflow) (0.7.2)\n",
      "Requirement already satisfied: werkzeug>=1.0.1 in c:\\users\\sharan murli\\anaconda3\\lib\\site-packages (from tensorboard<2.17,>=2.16->tensorflow-intel==2.16.1->tensorflow) (2.2.3)\n",
      "Requirement already satisfied: MarkupSafe>=2.1.1 in c:\\users\\sharan murli\\anaconda3\\lib\\site-packages (from werkzeug>=1.0.1->tensorboard<2.17,>=2.16->tensorflow-intel==2.16.1->tensorflow) (2.1.5)\n",
      "Requirement already satisfied: markdown-it-py>=2.2.0 in c:\\users\\sharan murli\\anaconda3\\lib\\site-packages (from rich->keras>=3.0.0->tensorflow-intel==2.16.1->tensorflow) (2.2.0)\n",
      "Requirement already satisfied: pygments<3.0.0,>=2.13.0 in c:\\users\\sharan murli\\anaconda3\\lib\\site-packages (from rich->keras>=3.0.0->tensorflow-intel==2.16.1->tensorflow) (2.15.1)\n",
      "Requirement already satisfied: mdurl~=0.1 in c:\\users\\sharan murli\\anaconda3\\lib\\site-packages (from markdown-it-py>=2.2.0->rich->keras>=3.0.0->tensorflow-intel==2.16.1->tensorflow) (0.1.0)\n"
     ]
    }
   ],
   "source": [
    "#installing the necessary libraries for the project\n",
    "!pip install tensorflow"
   ]
  },
  {
   "cell_type": "code",
   "execution_count": 2,
   "id": "8eb383a1",
   "metadata": {},
   "outputs": [
    {
     "name": "stdout",
     "output_type": "stream",
     "text": [
      "Imported dependencies.\n"
     ]
    }
   ],
   "source": [
    "#Importing all the libraries required for this project\n",
    "import pandas as pd\n",
    "import numpy as np\n",
    "import os\n",
    "import string\n",
    "import re\n",
    "import math\n",
    "os.environ['PYTHONWARNINGS'] = 'ignore'\n",
    "import tensorflow as tf\n",
    "from tensorflow import keras\n",
    "from tensorflow.keras.preprocessing.text import Tokenizer\n",
    "from tensorflow.keras.preprocessing.sequence import pad_sequences\n",
    "from keras.layers import Embedding, Flatten, Dense, Dropout, Conv1D, MaxPooling1D, LSTM\n",
    "from keras.models import Sequential\n",
    "from sklearn.model_selection import train_test_split\n",
    "from collections import Counter\n",
    "import matplotlib.pyplot as plt\n",
    "import warnings \n",
    "from tqdm.notebook import tqdm\n",
    "from tensorflow.keras.optimizers import Adam\n",
    "warnings. filterwarnings('ignore')\n",
    "print(\"Imported dependencies.\")"
   ]
  },
  {
   "cell_type": "markdown",
   "id": "6fd9278d",
   "metadata": {},
   "source": [
    "<h3>Q1 (a) In this problem, we are trying to build a classifier to analyze the sentiment of reviews. You are provided with text data in two folders: one folder involves positive reviews, and one folder involves negative reviews.</h3>"
   ]
  },
  {
   "cell_type": "markdown",
   "id": "71f2a415",
   "metadata": {},
   "source": [
    "<h3>Q1 (b) Data Exploration and Pre-processing</h3>"
   ]
  },
  {
   "cell_type": "markdown",
   "id": "029f14df",
   "metadata": {},
   "source": [
    "<h3>Q1 (b) i. You can use binary encoding for the sentiments , i.e y=1 for positive sentiments and y = −1 for negative sentiments</h3>"
   ]
  },
  {
   "cell_type": "markdown",
   "id": "33f21156",
   "metadata": {},
   "source": [
    "<h3>Q1 (b) ii. The data are pretty clean. Remove the punctuation and numbers from the data.</h3>"
   ]
  },
  {
   "cell_type": "code",
   "execution_count": 3,
   "id": "99459534",
   "metadata": {},
   "outputs": [],
   "source": [
    "#reading the directory and the folders : pos and neg\n",
    "main_file_directory = '../Data'\n",
    "positive_review_directory = os.path.join(main_file_directory, 'pos')\n",
    "negative_review_directory = os.path.join(main_file_directory, 'neg')\n",
    "\n",
    "def data_exploration(directory, sentiment):\n",
    "    data_list = [open(os.path.join(directory, filename), encoding='utf-8').read() \n",
    "                 for filename in sorted(os.listdir(directory)) if filename.endswith('.txt')]\n",
    "    labels_list = [sentiment] * len(data_list)\n",
    "    return data_list, labels_list\n",
    "\n",
    "\n",
    "positive_data, positive_labels = data_exploration(positive_review_directory, 1)\n",
    "negative_data, negative_labels = data_exploration(negative_review_directory, -1)"
   ]
  },
  {
   "cell_type": "code",
   "execution_count": 4,
   "id": "8b2f4ce5",
   "metadata": {},
   "outputs": [
    {
     "name": "stdout",
     "output_type": "stream",
     "text": [
      "Data cleaning is performed by removing punctuation and numbers.\n"
     ]
    }
   ],
   "source": [
    "#code for removing punctuation marks and numbers from the data\n",
    "def data_cleaning(text):\n",
    "    return re.sub(r'\\d+|[^\\w\\s]', '', text)\n",
    "print(\"Data cleaning is performed by removing punctuation and numbers.\")"
   ]
  },
  {
   "cell_type": "code",
   "execution_count": 5,
   "id": "99939c87",
   "metadata": {},
   "outputs": [
    {
     "name": "stdout",
     "output_type": "stream",
     "text": [
      "Positive Reviews Samples:\n",
      "Review 1 (Label: 1):\n",
      "films adapted from comic books have had plenty of success , whether they're about superheroes ( batman , superman , spawn ) , or geared toward kids ( casper ) or the arthouse crowd ( ghost world ) , but there's never really been a comic book like from hell before . \n",
      "for starters , it was created by alan moore ( and eddie campbell ) , who brought the medium to a whole new level in the mid '80s with a 12-part series called the watchmen . \n",
      "to say moore and campbell thoroughly researched the subject of jack the ripper would be like saying michael jackson is starting to look a little odd . \n",
      "the book ( or \" graphic novel , \" if you will ) is over 500 pages long and includes nearly 30 more that consist of nothing but footnotes . \n",
      "in other words , don't dismiss this film because of its source . \n",
      "if you can get past the whole comic book thing , you might find another stumbling block in from hell's directors , albert and allen hughes . \n",
      "getting the hughes brothers to direct this seems almost as ludicrous as casting carrot top in , well , anything , but riddle me this : who better to direct a film that's set in the ghetto and features really violent street crime than the mad geniuses behind menace ii society ? \n",
      "the ghetto in question is , of course , whitechapel in 1888 london's east end . \n",
      "it's a filthy , sooty place where the whores ( called \" unfortunates \" ) are starting to get a little nervous about this mysterious psychopath who has been carving through their profession with surgical precision . \n",
      "when the first stiff turns up , copper peter godley ( robbie coltrane , the world is not enough ) calls in inspector frederick abberline ( johnny depp , blow ) to crack the case . \n",
      "abberline , a widower , has prophetic dreams he unsuccessfully tries to quell with copious amounts of absinthe and opium . \n",
      "upon arriving in whitechapel , he befriends an unfortunate named mary kelly ( heather graham , say it isn't so ) and proceeds to investigate the horribly gruesome crimes that even the police surgeon can't stomach . \n",
      "i don't think anyone needs to be briefed on jack the ripper , so i won't go into the particulars here , other than to say moore and campbell have a unique and interesting theory about both the identity of the killer and the reasons he chooses to slay . \n",
      "in the comic , they don't bother cloaking the identity of the ripper , but screenwriters terry hayes ( vertical limit ) and rafael yglesias ( les mis ? rables ) do a good job of keeping him hidden from viewers until the very end . \n",
      "it's funny to watch the locals blindly point the finger of blame at jews and indians because , after all , an englishman could never be capable of committing such ghastly acts . \n",
      "and from hell's ending had me whistling the stonecutters song from the simpsons for days ( \" who holds back the electric car/who made steve guttenberg a star ? \" ) . \n",
      "don't worry - it'll all make sense when you see it . \n",
      "now onto from hell's appearance : it's certainly dark and bleak enough , and it's surprising to see how much more it looks like a tim burton film than planet of the apes did ( at times , it seems like sleepy hollow 2 ) . \n",
      "the print i saw wasn't completely finished ( both color and music had not been finalized , so no comments about marilyn manson ) , but cinematographer peter deming ( don't say a word ) ably captures the dreariness of victorian-era london and helped make the flashy killing scenes remind me of the crazy flashbacks in twin peaks , even though the violence in the film pales in comparison to that in the black-and-white comic . \n",
      "oscar winner martin childs' ( shakespeare in love ) production design turns the original prague surroundings into one creepy place . \n",
      "even the acting in from hell is solid , with the dreamy depp turning in a typically strong performance and deftly handling a british accent . \n",
      "ians holm ( joe gould's secret ) and richardson ( 102 dalmatians ) log in great supporting roles , but the big surprise here is graham . \n",
      "i cringed the first time she opened her mouth , imagining her attempt at an irish accent , but it actually wasn't half bad . \n",
      "the film , however , is all good . \n",
      "2 : 00 - r for strong violence/gore , sexuality , language and drug content \n",
      "\n",
      "\n",
      "Review 2 (Label: 1):\n",
      "every now and then a movie comes along from a suspect studio , with every indication that it will be a stinker , and to everybody's surprise ( perhaps even the studio ) the film becomes a critical darling . \n",
      "mtv films' _election , a high school comedy starring matthew broderick and reese witherspoon , is a current example . \n",
      "did anybody know this film existed a week before it opened ? \n",
      "the plot is deceptively simple . \n",
      "george washington carver high school is having student elections . \n",
      "tracy flick ( reese witherspoon ) is an over-achiever with her hand raised at nearly every question , way , way , high . \n",
      "mr . \" m \" ( matthew broderick ) , sick of the megalomaniac student , encourages paul , a popular-but-slow jock to run . \n",
      "and paul's nihilistic sister jumps in the race as well , for personal reasons . \n",
      "the dark side of such sleeper success is that , because expectations were so low going in , the fact that this was quality stuff made the reviews even more enthusiastic than they have any right to be . \n",
      "you can't help going in with the baggage of glowing reviews , which is in contrast to the negative baggage that the reviewers were likely to have . \n",
      "_election , a good film , does not live up to its hype . \n",
      "what makes _election_ so disappointing is that it contains significant plot details lifted directly from _rushmore_ , released a few months earlier . \n",
      "the similarities are staggering : \n",
      "tracy flick ( _election_ ) is the president of an extraordinary number of clubs , and is involved with the school play . \n",
      "max fischer ( _rushmore_ ) is the president of an extraordinary number of clubs , and is involved with the school play . \n",
      "the most significant tension of _election_ is the potential relationship between a teacher and his student . \n",
      "the most significant tension of _rushmore_ is the potential relationship between a teacher and his student . \n",
      "tracy flick is from a single parent home , which has contributed to her drive . \n",
      "max fischer is from a single parent home , which has contributed to his drive . \n",
      "the male bumbling adult in _election_ ( matthew broderick ) pursues an extramarital affair , gets caught , and his whole life is ruined . \n",
      "he even gets a bee sting . \n",
      "the male bumbling adult in _rushmore_ ( bill murray ) pursues an extramarital affair , gets caught , and his whole life is ruined . \n",
      "he gets several bee stings . \n",
      "and so on . \n",
      "what happened ? \n",
      "how is it that an individual screenplay ( _rushmore_ ) and a novel ( _election_ ) contain so many significant plot points , and yet both films were probably not even aware of each other , made from two different studios , from a genre ( the high school geeks revenge movie ) that hadn't been fully formed yet ? \n",
      "even so , the strengths of _election_ rely upon its fantastic performances from broderick , witherspoon , and newcomer jessica campbell , as paul's anti-social sister , tammy . \n",
      "broderick here is playing the mr . rooney role from _ferris bueller_ , and he seems to be having the most fun he's had since then . \n",
      "witherspoon is a revelation . \n",
      "it's early in the year , it's a comedy , and teenagers have little clout , but for my money , witherspoon deserves an oscar nomination . \n",
      "and once campbell's character gets going , like in her fantastic speech in the gymnasium , then you're won over . \n",
      "one thing that's been bothering me since i've seen it . \n",
      "there is an extraordinary amount of sexuality in this film . \n",
      "i suppose that , coming from mtv films , i should expect no less . . . \n",
      "but the film starts off light and airy , like a sitcom . \n",
      "as the screws tighten , and the tensions mount , alexander payne decides to add elements that , frankly , distract from the story . \n",
      "it is bad enough that mr . m doesn't like tracy's determination to win at all costs , but did they have to throw in the student/teacher relationship ? \n",
      "even so , there's no logical reason why mr . m has an affair when he does . \n",
      "there's a lot to like in _election_ , but the plot similarities to _rushmore_ , and the tonal nosedive it takes as it gets explicitly sex-driven , mark this as a disappointment . \n",
      "\n",
      "\n",
      "\n",
      "Negative Reviews Samples:\n",
      "Review 1 (Label: -1):\n",
      "plot : two teen couples go to a church party , drink and then drive . \n",
      "they get into an accident . \n",
      "one of the guys dies , but his girlfriend continues to see him in her life , and has nightmares . \n",
      "what's the deal ? \n",
      "watch the movie and \" sorta \" find out . . . \n",
      "critique : a mind-fuck movie for the teen generation that touches on a very cool idea , but presents it in a very bad package . \n",
      "which is what makes this review an even harder one to write , since i generally applaud films which attempt to break the mold , mess with your head and such ( lost highway & memento ) , but there are good and bad ways of making all types of films , and these folks just didn't snag this one correctly . \n",
      "they seem to have taken this pretty neat concept , but executed it terribly . \n",
      "so what are the problems with the movie ? \n",
      "well , its main problem is that it's simply too jumbled . \n",
      "it starts off \" normal \" but then downshifts into this \" fantasy \" world in which you , as an audience member , have no idea what's going on . \n",
      "there are dreams , there are characters coming back from the dead , there are others who look like the dead , there are strange apparitions , there are disappearances , there are a looooot of chase scenes , there are tons of weird things that happen , and most of it is simply not explained . \n",
      "now i personally don't mind trying to unravel a film every now and then , but when all it does is give me the same clue over and over again , i get kind of fed up after a while , which is this film's biggest problem . \n",
      "it's obviously got this big secret to hide , but it seems to want to hide it completely until its final five minutes . \n",
      "and do they make things entertaining , thrilling or even engaging , in the meantime ? \n",
      "not really . \n",
      "the sad part is that the arrow and i both dig on flicks like this , so we actually figured most of it out by the half-way point , so all of the strangeness after that did start to make a little bit of sense , but it still didn't the make the film all that more entertaining . \n",
      "i guess the bottom line with movies like this is that you should always make sure that the audience is \" into it \" even before they are given the secret password to enter your world of understanding . \n",
      "i mean , showing melissa sagemiller running away from visions for about 20 minutes throughout the movie is just plain lazy ! ! \n",
      "okay , we get it . . . there \n",
      "are people chasing her and we don't know who they are . \n",
      "do we really need to see it over and over again ? \n",
      "how about giving us different scenes offering further insight into all of the strangeness going down in the movie ? \n",
      "apparently , the studio took this film away from its director and chopped it up themselves , and it shows . \n",
      "there might've been a pretty decent teen mind-fuck movie in here somewhere , but i guess \" the suits \" decided that turning it into a music video with little edge , would make more sense . \n",
      "the actors are pretty good for the most part , although wes bentley just seemed to be playing the exact same character that he did in american beauty , only in a new neighborhood . \n",
      "but my biggest kudos go out to sagemiller , who holds her own throughout the entire film , and actually has you feeling her character's unraveling . \n",
      "overall , the film doesn't stick because it doesn't entertain , it's confusing , it rarely excites and it feels pretty redundant for most of its runtime , despite a pretty cool ending and explanation to all of the craziness that came before it . \n",
      "oh , and by the way , this is not a horror or teen slasher flick . . . it's \n",
      "just packaged to look that way because someone is apparently assuming that the genre is still hot with the kids . \n",
      "it also wrapped production two years ago and has been sitting on the shelves ever since . \n",
      "whatever . . . skip \n",
      "it ! \n",
      "where's joblo coming from ? \n",
      "a nightmare of elm street 3 ( 7/10 ) - blair witch 2 ( 7/10 ) - the crow ( 9/10 ) - the crow : salvation ( 4/10 ) - lost highway ( 10/10 ) - memento ( 10/10 ) - the others ( 9/10 ) - stir of echoes ( 8/10 ) \n",
      "\n",
      "\n",
      "Review 2 (Label: -1):\n",
      "the happy bastard's quick movie review \n",
      "damn that y2k bug . \n",
      "it's got a head start in this movie starring jamie lee curtis and another baldwin brother ( william this time ) in a story regarding a crew of a tugboat that comes across a deserted russian tech ship that has a strangeness to it when they kick the power back on . \n",
      "little do they know the power within . . . \n",
      "going for the gore and bringing on a few action sequences here and there , virus still feels very empty , like a movie going for all flash and no substance . \n",
      "we don't know why the crew was really out in the middle of nowhere , we don't know the origin of what took over the ship ( just that a big pink flashy thing hit the mir ) , and , of course , we don't know why donald sutherland is stumbling around drunkenly throughout . \n",
      "here , it's just \" hey , let's chase these people around with some robots \" . \n",
      "the acting is below average , even from the likes of curtis . \n",
      "you're more likely to get a kick out of her work in halloween h20 . \n",
      "sutherland is wasted and baldwin , well , he's acting like a baldwin , of course . \n",
      "the real star here are stan winston's robot design , some schnazzy cgi , and the occasional good gore shot , like picking into someone's brain . \n",
      "so , if robots and body parts really turn you on , here's your movie . \n",
      "otherwise , it's pretty much a sunken ship of a movie . \n",
      "\n",
      "\n"
     ]
    }
   ],
   "source": [
    "#printing the sample data\n",
    "def print_sample_data(data, labels, num_samples=2):\n",
    "    for i in range(num_samples):\n",
    "        print(f\"Review {i+1} (Label: {labels[i]}):\\n{data[i]}\\n\")\n",
    "\n",
    "print(\"Positive Reviews Samples:\")\n",
    "print_sample_data(positive_data, positive_labels)\n",
    "\n",
    "print(\"\\nNegative Reviews Samples:\")\n",
    "print_sample_data(negative_data, negative_labels)"
   ]
  },
  {
   "cell_type": "markdown",
   "id": "e178b3ca",
   "metadata": {},
   "source": [
    "<h3>Q1 (b) iii. The name of each text file starts with cv_number. Use text files 0-699 in each class for training and 700-999 for testing</h3>"
   ]
  },
  {
   "cell_type": "code",
   "execution_count": 6,
   "id": "a299f135",
   "metadata": {},
   "outputs": [],
   "source": [
    "texts_data = positive_data + negative_data\n",
    "labels_data = np.array(positive_labels + negative_labels)\n",
    "\n",
    "#splitting data to training andtesting sets\n",
    "x_train = positive_data[:700] + negative_data[:700]\n",
    "y_train = np.array(positive_labels[:700] + negative_labels[:700])\n",
    "x_test = positive_data[700:1000] + negative_data[700:1000]\n",
    "y_test = np.array(positive_labels[700:1000] + negative_labels[700:1000])\n",
    "\n",
    "x_train = [data_cleaning(doc) for doc in x_train]\n",
    "x_test = [data_cleaning(doc) for doc in x_test]\n",
    "\n",
    "# x_train\n",
    "# x_test\n",
    "# print(\"Dimensions :\", len(x_train))\n",
    "# print(\"Dimensions :\", len(x_test))\n",
    "# print(\"Dimensions :\", len(y_train))\n",
    "# print(\"Dimensions :\", len(y_test))\n"
   ]
  },
  {
   "cell_type": "markdown",
   "id": "8406370a",
   "metadata": {},
   "source": [
    "<h3>Q1 (b) iv. Count the number of unique words in the whole dataset (train + test) and print it out</h3>"
   ]
  },
  {
   "cell_type": "code",
   "execution_count": 7,
   "id": "8bad5a42",
   "metadata": {},
   "outputs": [
    {
     "name": "stdout",
     "output_type": "stream",
     "text": [
      "Number of unique words in the training set: 39765\n",
      "Number of unique words in the testing set: 26745\n",
      "Number of unique words in the whole dataset: 47037\n"
     ]
    }
   ],
   "source": [
    "words_train = ' '.join(x_train).split()\n",
    "word_counts_train = Counter(words_train)\n",
    "unique_words_train = len(word_counts_train)\n",
    "\n",
    "words_test = ' '.join(x_test).split()\n",
    "word_counts_test = Counter(words_test)\n",
    "unique_words_test = len(word_counts_test)\n",
    "\n",
    "print(\"Number of unique words in the training set:\", unique_words_train)\n",
    "print(\"Number of unique words in the testing set:\", unique_words_test)\n",
    "all_texts = x_train + x_test\n",
    "all_words = ' '.join(all_texts).split()\n",
    "word_counts = Counter(all_words)\n",
    "unique_words = len(word_counts)\n",
    "\n",
    "print(\"Number of unique words in the whole dataset:\", unique_words)"
   ]
  },
  {
   "cell_type": "markdown",
   "id": "2f13287b",
   "metadata": {},
   "source": [
    "<h3>Q1 (b) v. Calculate the average review length and the standard deviation of review lengths. Report the results</h3>"
   ]
  },
  {
   "cell_type": "code",
   "execution_count": 8,
   "id": "f9bc6ff7",
   "metadata": {},
   "outputs": [
    {
     "name": "stdout",
     "output_type": "stream",
     "text": [
      "Statistics:\n",
      "\n",
      "======================================================================\n",
      "\n",
      "Average review length: 644.358\n",
      "Standard deviation of review lengths: 284.98\n"
     ]
    }
   ],
   "source": [
    "average_length = np.mean([len(doc.split()) for doc in all_texts])\n",
    "std_dev_length = np.std([len(doc.split()) for doc in all_texts])\n",
    "print(\"Statistics:\\n\")\n",
    "print(\"======================================================================\\n\")\n",
    "print(\"Average review length:\", round(average_length,3))\n",
    "print(\"Standard deviation of review lengths:\", round(std_dev_length,3))"
   ]
  },
  {
   "cell_type": "markdown",
   "id": "625c00c8",
   "metadata": {},
   "source": [
    "<h3>Q1 (b) vi. Plot the histogram of review lengths</h3>"
   ]
  },
  {
   "cell_type": "code",
   "execution_count": 9,
   "id": "40c9ed69",
   "metadata": {},
   "outputs": [
    {
     "data": {
      "image/png": "[encoded data removed]",
      "text/plain": [
       "<Figure size 1000x600 with 1 Axes>"
      ]
     },
     "metadata": {},
     "output_type": "display_data"
    }
   ],
   "source": [
    "lengths = [len(doc.split()) for doc in all_texts]\n",
    "\n",
    "#Reference : https://matplotlib.org/stable/api/_as_gen/matplotlib.pyplot.hist.html\n",
    "plt.style.use('seaborn-darkgrid')  \n",
    "plt.figure(figsize=(10, 6)) \n",
    "plt.hist(lengths, bins=30, color='steelblue', edgecolor='black')  \n",
    "plt.title('Histogram Representation of Review Lengths', fontsize=15)\n",
    "plt.xlabel('Review Length', fontsize=12)\n",
    "plt.ylabel('Frequency', fontsize=12)\n",
    "plt.grid(True, linestyle='--', linewidth=0.5, alpha=0.7)\n",
    "plt.show()"
   ]
  },
  {
   "cell_type": "markdown",
   "id": "1ad3f61d",
   "metadata": {},
   "source": [
    "<h3>Q1 (b) vii. To represent each text (= data point), there are many ways. In NLP/Deep Learning terminology, this task is called tokenization. It is common to represent text using popularity/ rank of words in text. The most common word in the text will be represented as 1, the second most common word will be represented as 2, etc. Tokenize each text document using this method</h3>"
   ]
  },
  {
   "cell_type": "code",
   "execution_count": 10,
   "id": "3b243ce6",
   "metadata": {},
   "outputs": [
    {
     "name": "stdout",
     "output_type": "stream",
     "text": [
      "\n",
      "Word Index: Displaying the first 20 Tokenized words\n",
      "the: 1\n",
      "a: 2\n",
      "and: 3\n",
      "of: 4\n",
      "to: 5\n",
      "is: 6\n",
      "in: 7\n",
      "that: 8\n",
      "it: 9\n",
      "as: 10\n",
      "with: 11\n",
      "for: 12\n",
      "his: 13\n",
      "this: 14\n",
      "film: 15\n",
      "but: 16\n",
      "he: 17\n",
      "i: 18\n",
      "on: 19\n",
      "are: 20\n"
     ]
    }
   ],
   "source": [
    "tokenizer = Tokenizer()  \n",
    "tokenizer.fit_on_texts(all_texts)\n",
    "sequences = tokenizer.texts_to_sequences(all_texts)\n",
    "word_index = tokenizer.word_index\n",
    "\n",
    "print(\"\\nWord Index: Displaying the first 20 Tokenized words\")\n",
    "for word, index in list(word_index.items())[:20]:  # Show the first 10 entries, adjust as needed\n",
    "    print(f\"{word}: {index}\")\n",
    "\n",
    "#  Check the overall vocabulary size\n",
    "# print(\"\\nVocabulary Size:\", len(word_index))"
   ]
  },
  {
   "cell_type": "markdown",
   "id": "3f3eff12",
   "metadata": {},
   "source": [
    "<h3>Q1 (b) viii. Select a review length L that 70% of the reviews have a length below it. If you feel more adventurous, set the threshold to 90%.</h3>"
   ]
  },
  {
   "cell_type": "code",
   "execution_count": 11,
   "id": "aa7efc6e",
   "metadata": {},
   "outputs": [
    {
     "name": "stdout",
     "output_type": "stream",
     "text": [
      "Review length L that 70% of the reviews have a length below it: 737\n"
     ]
    }
   ],
   "source": [
    "lengths = [len(sequence) for sequence in sequences]\n",
    "L = int(np.percentile(lengths, 70)) \n",
    "\n",
    "print(f\"Review length L that 70% of the reviews have a length below it: {L}\")"
   ]
  },
  {
   "cell_type": "markdown",
   "id": "e2ebc5c7",
   "metadata": {},
   "source": [
    "<h3>Q1 (b) ix. Truncate reviews longer than L words and zero-pad reviews shorter than L so that all texts (= data points) are of length L</h3>"
   ]
  },
  {
   "cell_type": "code",
   "execution_count": 12,
   "id": "4f9ef22f",
   "metadata": {},
   "outputs": [
    {
     "name": "stdout",
     "output_type": "stream",
     "text": [
      "Some truncated sequences from training data:\n",
      "Sequence 1: [   67  2745    29   355  1634    32    90  1047     4   627   628   321\n",
      "    40  7660   704  4783  1755    47  7257  1328   396  4949    47     1\n",
      " 10837  1777  1778   148    16   140   108    89    68     2   355   405\n",
      "    39    29   503   142    12  9974     9    31   853    21  1352  1802\n",
      "     3   944  1512    28   879     1  3951     5     2   282   113   540\n",
      "     7     1  7258   126    11     2   202   262   381     1 27315     5\n",
      "   180  1802     3  1512  1882 27316     1   845     4   495     1 13221\n",
      "    69    22    39   820   325  1231     6  2142     5   175     2    94\n",
      "  1232     1   405    47  1549   523    51    35    65     6   111  4950\n",
      "   196     3  1233   440    42     8  9266     4   181    16 20915     7\n",
      "    73   637   119  6914    14    15    84     4    23  2110    51    35\n",
      "    64    74   403     1   282   355   405   179    35   228   188   124\n",
      "  6595  2808     7    29 11930   880  2858     3  1029  2592   333     1\n",
      "  2592   620     5  1967    14   136   178    10  2970    10  1089  8121\n",
      "   466     7    83   232    16 27317   103    14    28   153     5  1967\n",
      "     2    15   185   260     7     1  4628     3   629    89   996  1036\n",
      "   690    58     1  1609  7661   384  1261  1009   911     1  4628     7\n",
      "   486     6     4   218 20916     7 14973  3316   133    23     2 13222\n",
      " 27318   235    96     1 20917   381 20918    20  2142     5    74     2\n",
      "    94  3240    40    14  1147  6915    28    33    68 13223   121    45\n",
      "  3557    11 20919  8122    43     1    80  4951   336    46 13224   524\n",
      " 27319  3844 13225     1   148     6    25   154  1329     7  3089 10838\n",
      " 20920  1779  2859  2462     5  3241     1   318 20920     2 10839    33\n",
      " 13226  1061    17  9267   364     5 17365    11 11931  3558     4 20921\n",
      "     3 20922   436  5997     7 20916    17  4070    24  2143   382  1010\n",
      "  1550  3738  2809   180     9   162    38     3  3952     5  2500     1\n",
      "  2860  4629  3739     8    56     1   555  8123   219  4784    18   119\n",
      "   172   326   612     5    22 27320    19   495     1 13221    38    18\n",
      "   501   129    55     1 11932   125    73    58     5   180  1802     3\n",
      "  1512    32     2  1177     3   222  2593    40   157     1  1675     4\n",
      "     1   505     3     1  1030    17  3242     5 20923     7     1   355\n",
      "    36   119  2549 27321     1  1675     4     1 13221    16  1913  2340\n",
      " 10840 11933  8626     3 11934 17366  4197 14974 20924    76     2    61\n",
      "   254     4  1529    54  1711    29   732   308     1    78   133    23\n",
      "   176     5   237     1  6290 13227   212     1  4785     4  1530    30\n",
      "  4630     3  7259    84    81    37    24 14975   104   108    22  1941\n",
      "     4  7260   118  9268  1803     3    29 11930   314    90   103 27322\n",
      "     1 27323  1048    29     1  7662    12   392    28  1582   135     1\n",
      "  6596 27324   137   903 14976     2   209   119  3393  4340    37    86\n",
      "   253    43    35    82     9   144  1140    29 11930  1090    23   377\n",
      "   432     3  2501   154     3    23  1330     5    82    93    70    42\n",
      "     9   299    39     2   886  2198    15    58   565     4     1  1531\n",
      "   192    30   245     9   136    39  3026  1883     1  4198    18   526\n",
      "   457   300  3394   157  1551     3   285    90    25    68 20925    38\n",
      "    59  2371    40  6916  9269    16  1988   524 27325   119   180     2\n",
      "   638  8124  3161     1 20926     4 27326  2111     3  2341    86     1\n",
      "  3090   982   117  3740   103     4     1  1583  1914     7  2971  5998\n",
      "    56   151     1   448     7     1    15 13228     7  1823     5     8\n",
      "     7     1  7663   355   655  1884   837  4488  1885     7   127   460\n",
      "  1532   336     1   203 27327  5999    55    26  1443   235    56     1\n",
      "   206     7    29   503     6   816    11     1  9270  2859  1676     7\n",
      "     2  4199   509   158     3 10841  4631     2   960  1397 27328  6000\n",
      "   467 17367   789     3  4341  5336 14977     7   123   490   481    16\n",
      "     1   145   656   125     6  2809    18 17368     1    80    63    53\n",
      "  3027    34  1481 13229    34   506    30    24  2810  1397    16     9\n",
      "   174   457   342   106     1    15   143     6    37    61   887    12\n",
      "   509 17369  3395  1108     3   923  1712     0     0     0     0     0\n",
      "     0     0     0     0     0     0     0     0     0     0     0     0\n",
      "     0     0     0     0     0     0     0     0     0     0     0     0\n",
      "     0     0     0     0     0     0     0     0     0     0     0     0\n",
      "     0     0     0     0     0     0     0     0     0     0     0     0\n",
      "     0     0     0     0     0]\n",
      "\n",
      "Some truncated sequences from testing data:\n",
      "Sequence 1: [  464   103   435    99    21   820     8  1123    46     5     1   685\n",
      "     4     1   751   914    15    18    89   457   302  1405     5     9\n",
      "    10    70    10    18    32    11    49     4     1   739    67   223\n",
      "    25   269    51     9    31     1   980  4165  2449    47     1 12550\n",
      "  6460     8     1   294    15    65   579   135    55     1  3807   734\n",
      "     4     1  5470  9844   146   223   674     5  4522     8    87  5931\n",
      "    97 11555    81    40     1    80   221     4     1    15    21     8\n",
      "   212     9    31  3435     8   407   914    31   135    11     2  5514\n",
      "    37  5931    69    32   261    68 11555  6565   648    12     1   183\n",
      "     8     1    80   900   221     4     1    15  1897   449     2  2649\n",
      "   578     9   136     8  1709   664     1  7661   689    30     1   590\n",
      "     8     1   367  2944    20   415     5    22   710    99    43     1\n",
      "    27   421     9   839     2  6133    29    24   160  1110     5  2796\n",
      "    77     7    18   594    36    64    22 11627   151   560  4395     3\n",
      "  6047    46  3882   149   306     6   532 11094    19     1  1633   722\n",
      "    81  3254  2803    48     1   737  3869    31    12    18  7740     7\n",
      "    12   914    18   172     1    62  4519   951     4    14     1   859\n",
      "    15     7     1   262     6     8     9    89   220   135     5     1\n",
      "   178  4795     7  7497   427     4     1  1342  1802    67    52    97\n",
      "   261    42  1955     7    14    27    58     7     1   173   319  2797\n",
      "     3  7514   173 11128     7     1    15     6    40     1   112     4\n",
      "     1   262     1   148     6    25   154    71  4207   289     1    62\n",
      "   128     4    87    27     4     1   262   268    29   587  1714  2493\n",
      "     5     1   800  6416     4   703   914  5880 20603    41    50    43\n",
      "    52   136     5    22    59    85    41    12    12     1    62   202\n",
      "     1   128   458  1138    78    83   184    52    97     2   317     4\n",
      "   245     8    18   360    49   170    97     2   249   111     1   466\n",
      "    56    12     2   914    15    18   172    49     4     1  1530    64\n",
      "    22  3820    30     1  1642     4   131   325 17296    92    17   192\n",
      "     2    61   254    12     1    62   202    52    97   862     7     1\n",
      "    27  3070   216   128   458     8    17   654     5  2294  3148     4\n",
      "     1   183     8    17    31   250  2087    24   128    15    62  8093\n",
      "   458    19     2  3672  2349  3078     3    26   547   914   333   121\n",
      "     2  2946  1234  1164    39 17296   360    17    31  2839    49   488\n",
      "     4   281  9056   680    27    17   178   654    39    17   241   120\n",
      "    48    17    31   394    16    36    97   998   117     3    89  1673\n",
      "   156   217    29     1   897   816   254     8 17296   192     7  1158\n",
      "    51    35    32   198   152     2   914    15    35   501    22  4353\n",
      "     5   814     8    98    33   108    68    45   509  2035     1   148\n",
      "     6    25   154     6    59  1321    14    63    60    32   239   124\n",
      "   111   792     8   914    33     5   541    12     1    61     4     1\n",
      "   148  5782  8684    11     1  2634 26523   465  5484     2   115    28\n",
      "    33     2  4924 20637     7    13  1633     8   141    54 20679     5\n",
      "  1496   159    14   212     6  1949     6   766   103    36   839   123\n",
      "  7998     5  1313    13  2891    16     9    57   745    46   351     7\n",
      "     1    27    10     2   107     8    64    57    22  2303    10   302\n",
      "    39    24  7017   722 26523    39     1   974  2634     8    17     6\n",
      "     6  6485    19    49 26298  2547   547     2 40756  4484 21719    18\n",
      "   594   148 10852    50   162    10  1635     5  3459    10     2   279\n",
      "   250  4373  2754   914     6   879     7     5  3286     1 26524  1516\n",
      " 26525   609  7601  9911    28     6     1   451     4    26     4 40757\n",
      "   653  1754   264     1    85   914    33     5  8251     1   263     4\n",
      "     2  1905  1667   563  1438   824  2956  2731     3    13   200  1917\n",
      " 40758 40759   465  5484    39    37   914    67    35   657    50    32\n",
      "     5  8086  2629   111     1    98   191     9     6   971   766   637\n",
      "   105   919  5563    69    22     8     9    31    40     1    62  7388\n",
      "     4    87     4     1   914    67    52    31    30   210    26   212\n",
      "     8    18    90     5   541     3   437     5   687   159   914    31\n",
      "    96    17    31     3   159    17    31   394    48    17    31   394\n",
      "     1  1963     8    18   526     1    27    11    31   300  1435   111\n",
      "    24   917  3050     4 40760    75     9    31 16840     5   917     7\n",
      "     1    27  3277   184    25]\n"
     ]
    }
   ],
   "source": [
    "x_train_seq = pad_sequences(sequences[:1400], maxlen=L, padding='post', truncating='post')\n",
    "x_test_seq = pad_sequences(sequences[1400:], maxlen=L, padding='post', truncating='post')\n",
    "\n",
    "sequence_lengths = [len(seq) for seq in sequences]\n",
    "\n",
    "print(\"Some truncated sequences from training data:\")\n",
    "for i, seq in enumerate(x_train_seq[:1]):\n",
    "    print(f\"Sequence {i+1}: {seq}\")\n",
    "\n",
    "print(\"\\nSome truncated sequences from testing data:\")\n",
    "for i, seq in enumerate(x_test_seq[:1]):\n",
    "    print(f\"Sequence {i+1}: {seq}\")"
   ]
  },
  {
   "cell_type": "code",
   "execution_count": 13,
   "id": "6024d50b",
   "metadata": {},
   "outputs": [
    {
     "data": {
      "image/png": "[encoded data removed]",
      "text/plain": [
       "<Figure size 1000x600 with 1 Axes>"
      ]
     },
     "metadata": {},
     "output_type": "display_data"
    }
   ],
   "source": [
    "#Reference : https://matplotlib.org/stable/api/_as_gen/matplotlib.pyplot.hist.html\n",
    "plt.style.use('seaborn-darkgrid') \n",
    "plt.figure(figsize=(10, 6)) \n",
    "plt.hist(sequence_lengths, bins=30, color='steelblue', edgecolor='black')  \n",
    "plt.title('Histogram of Sequence Lengths Post-Tokenization', fontsize=15)\n",
    "plt.xlabel('Sequence Length', fontsize=12)\n",
    "plt.ylabel('Frequency', fontsize=12)\n",
    "plt.grid(True, linestyle='--', linewidth=0.5, alpha=0.7)\n",
    "plt.show()"
   ]
  },
  {
   "cell_type": "markdown",
   "id": "38fba4c2",
   "metadata": {},
   "source": [
    "<h3>Q1 (c). Word Embeddings</h3>"
   ]
  },
  {
   "cell_type": "markdown",
   "id": "371c5e53",
   "metadata": {},
   "source": [
    "<h3>Q1 (c) i. One can use tokenized text as inputs to a deep neural network. However, a recent breakthrough in NLP suggests that more sophisticated representations of text yield better results. These sophisticated representations are called word embeddings. “Word embedding is a term used for representation of words for text analysis, typically in the form of a real-valued vector that encodes the meaning of the word such that the words that are closer in the vector space are expected to be similar in meaning.”. Most deep learning modules (including Keras) provide a convenient way to convert positive integer representations of words into a word embedding by an “Embedding layer.” The layer accepts arguments that define the mapping of words into embeddings, including the maximum number of expected words also called the vocabulary size (e.g. the largest integer value). The layer also allows you to specify the dimension for each word vector, called the “output dimension.” We would like to use a word embedding layer for this project. Assume that we are interested in the top 5,000 words. This means that in each integer sequence that represents each document, we set to zero those integers that represent words that are not among the top 5,000 words in the document. If you feel more adventurous, use all the words that appear in this corpus. Choose the length of the embedding vector for each word to be 32. Hence, each document is represented as a 32×L matrix</h3>"
   ]
  },
  {
   "cell_type": "markdown",
   "id": "32dfcfa8",
   "metadata": {},
   "source": [
    "<h3>Q1 (c) ii. Flatten the matrix of each document to a vector</h3>"
   ]
  },
  {
   "cell_type": "code",
   "execution_count": 14,
   "id": "c5ddb9b7",
   "metadata": {},
   "outputs": [
    {
     "name": "stdout",
     "output_type": "stream",
     "text": [
      "Chosen length L: 651\n"
     ]
    }
   ],
   "source": [
    "#Reference: https://keras.io/api/keras_nlp/tokenizers/tokenizer/\n",
    "tokenizer = Tokenizer(num_words=5000) \n",
    "tokenizer.fit_on_texts(all_texts)\n",
    "sequences = tokenizer.texts_to_sequences(all_texts)\n",
    "word_index = tokenizer.word_index\n",
    "\n",
    "\n",
    "lengths = [len(sequence) for sequence in sequences]\n",
    "L = int(np.percentile(lengths, 70)) \n",
    "\n",
    "print(f\"Chosen length L: {L}\")\n",
    "\n",
    "x_train_seq = pad_sequences(sequences[:1400], maxlen=L, padding='post', truncating='post')\n",
    "x_test_seq = pad_sequences(sequences[1400:], maxlen=L, padding='post', truncating='post')"
   ]
  },
  {
   "cell_type": "markdown",
   "id": "94fd772f",
   "metadata": {},
   "source": [
    "<h3>NOTE: I am using 0 and 1 for the labels in my model because the sigmoid activation function in the final layer produces values between 0 and 1. This matches the output range of the function with the label range, making it easy to understand the output as the likelihood of the instance being in the positive class (1). This alignment not only makes the model simpler but also improves how well it can be understood and how effectively it performs in binary classification tasks.</h3>"
   ]
  },
  {
   "cell_type": "code",
   "execution_count": 15,
   "id": "48f8b17a",
   "metadata": {},
   "outputs": [
    {
     "data": {
      "text/html": [
       "<pre style=\"white-space:pre;overflow-x:auto;line-height:normal;font-family:Menlo,'DejaVu Sans Mono',consolas,'Courier New',monospace\"><span style=\"font-weight: bold\">Model: \"sequential\"</span>\n",
       "</pre>\n"
      ],
      "text/plain": [
       "\u001b[1mModel: \"sequential\"\u001b[0m\n"
      ]
     },
     "metadata": {},
     "output_type": "display_data"
    },
    {
     "data": {
      "text/html": [
       "<pre style=\"white-space:pre;overflow-x:auto;line-height:normal;font-family:Menlo,'DejaVu Sans Mono',consolas,'Courier New',monospace\">┏━━━━━━━━━━━━━━━━━━━━━━━━━━━━━━━━━━━━━━┳━━━━━━━━━━━━━━━━━━━━━━━━━━━━━┳━━━━━━━━━━━━━━━━━┓\n",
       "┃<span style=\"font-weight: bold\"> Layer (type)                         </span>┃<span style=\"font-weight: bold\"> Output Shape                </span>┃<span style=\"font-weight: bold\">         Param # </span>┃\n",
       "┡━━━━━━━━━━━━━━━━━━━━━━━━━━━━━━━━━━━━━━╇━━━━━━━━━━━━━━━━━━━━━━━━━━━━━╇━━━━━━━━━━━━━━━━━┩\n",
       "│ embedding (<span style=\"color: #0087ff; text-decoration-color: #0087ff\">Embedding</span>)                │ (<span style=\"color: #00d7ff; text-decoration-color: #00d7ff\">None</span>, <span style=\"color: #00af00; text-decoration-color: #00af00\">651</span>, <span style=\"color: #00af00; text-decoration-color: #00af00\">32</span>)             │         <span style=\"color: #00af00; text-decoration-color: #00af00\">160,000</span> │\n",
       "├──────────────────────────────────────┼─────────────────────────────┼─────────────────┤\n",
       "│ flatten (<span style=\"color: #0087ff; text-decoration-color: #0087ff\">Flatten</span>)                    │ (<span style=\"color: #00d7ff; text-decoration-color: #00d7ff\">None</span>, <span style=\"color: #00af00; text-decoration-color: #00af00\">20832</span>)               │               <span style=\"color: #00af00; text-decoration-color: #00af00\">0</span> │\n",
       "├──────────────────────────────────────┼─────────────────────────────┼─────────────────┤\n",
       "│ dense (<span style=\"color: #0087ff; text-decoration-color: #0087ff\">Dense</span>)                        │ (<span style=\"color: #00d7ff; text-decoration-color: #00d7ff\">None</span>, <span style=\"color: #00af00; text-decoration-color: #00af00\">10</span>)                  │         <span style=\"color: #00af00; text-decoration-color: #00af00\">208,330</span> │\n",
       "├──────────────────────────────────────┼─────────────────────────────┼─────────────────┤\n",
       "│ dense_1 (<span style=\"color: #0087ff; text-decoration-color: #0087ff\">Dense</span>)                      │ (<span style=\"color: #00d7ff; text-decoration-color: #00d7ff\">None</span>, <span style=\"color: #00af00; text-decoration-color: #00af00\">1</span>)                   │              <span style=\"color: #00af00; text-decoration-color: #00af00\">11</span> │\n",
       "└──────────────────────────────────────┴─────────────────────────────┴─────────────────┘\n",
       "</pre>\n"
      ],
      "text/plain": [
       "┏━━━━━━━━━━━━━━━━━━━━━━━━━━━━━━━━━━━━━━┳━━━━━━━━━━━━━━━━━━━━━━━━━━━━━┳━━━━━━━━━━━━━━━━━┓\n",
       "┃\u001b[1m \u001b[0m\u001b[1mLayer (type)                        \u001b[0m\u001b[1m \u001b[0m┃\u001b[1m \u001b[0m\u001b[1mOutput Shape               \u001b[0m\u001b[1m \u001b[0m┃\u001b[1m \u001b[0m\u001b[1m        Param #\u001b[0m\u001b[1m \u001b[0m┃\n",
       "┡━━━━━━━━━━━━━━━━━━━━━━━━━━━━━━━━━━━━━━╇━━━━━━━━━━━━━━━━━━━━━━━━━━━━━╇━━━━━━━━━━━━━━━━━┩\n",
       "│ embedding (\u001b[38;5;33mEmbedding\u001b[0m)                │ (\u001b[38;5;45mNone\u001b[0m, \u001b[38;5;34m651\u001b[0m, \u001b[38;5;34m32\u001b[0m)             │         \u001b[38;5;34m160,000\u001b[0m │\n",
       "├──────────────────────────────────────┼─────────────────────────────┼─────────────────┤\n",
       "│ flatten (\u001b[38;5;33mFlatten\u001b[0m)                    │ (\u001b[38;5;45mNone\u001b[0m, \u001b[38;5;34m20832\u001b[0m)               │               \u001b[38;5;34m0\u001b[0m │\n",
       "├──────────────────────────────────────┼─────────────────────────────┼─────────────────┤\n",
       "│ dense (\u001b[38;5;33mDense\u001b[0m)                        │ (\u001b[38;5;45mNone\u001b[0m, \u001b[38;5;34m10\u001b[0m)                  │         \u001b[38;5;34m208,330\u001b[0m │\n",
       "├──────────────────────────────────────┼─────────────────────────────┼─────────────────┤\n",
       "│ dense_1 (\u001b[38;5;33mDense\u001b[0m)                      │ (\u001b[38;5;45mNone\u001b[0m, \u001b[38;5;34m1\u001b[0m)                   │              \u001b[38;5;34m11\u001b[0m │\n",
       "└──────────────────────────────────────┴─────────────────────────────┴─────────────────┘\n"
      ]
     },
     "metadata": {},
     "output_type": "display_data"
    },
    {
     "data": {
      "text/html": [
       "<pre style=\"white-space:pre;overflow-x:auto;line-height:normal;font-family:Menlo,'DejaVu Sans Mono',consolas,'Courier New',monospace\"><span style=\"font-weight: bold\"> Total params: </span><span style=\"color: #00af00; text-decoration-color: #00af00\">368,341</span> (1.41 MB)\n",
       "</pre>\n"
      ],
      "text/plain": [
       "\u001b[1m Total params: \u001b[0m\u001b[38;5;34m368,341\u001b[0m (1.41 MB)\n"
      ]
     },
     "metadata": {},
     "output_type": "display_data"
    },
    {
     "data": {
      "text/html": [
       "<pre style=\"white-space:pre;overflow-x:auto;line-height:normal;font-family:Menlo,'DejaVu Sans Mono',consolas,'Courier New',monospace\"><span style=\"font-weight: bold\"> Trainable params: </span><span style=\"color: #00af00; text-decoration-color: #00af00\">368,341</span> (1.41 MB)\n",
       "</pre>\n"
      ],
      "text/plain": [
       "\u001b[1m Trainable params: \u001b[0m\u001b[38;5;34m368,341\u001b[0m (1.41 MB)\n"
      ]
     },
     "metadata": {},
     "output_type": "display_data"
    },
    {
     "data": {
      "text/html": [
       "<pre style=\"white-space:pre;overflow-x:auto;line-height:normal;font-family:Menlo,'DejaVu Sans Mono',consolas,'Courier New',monospace\"><span style=\"font-weight: bold\"> Non-trainable params: </span><span style=\"color: #00af00; text-decoration-color: #00af00\">0</span> (0.00 B)\n",
       "</pre>\n"
      ],
      "text/plain": [
       "\u001b[1m Non-trainable params: \u001b[0m\u001b[38;5;34m0\u001b[0m (0.00 B)\n"
      ]
     },
     "metadata": {},
     "output_type": "display_data"
    },
    {
     "name": "stdout",
     "output_type": "stream",
     "text": [
      "Epoch 1/2\n",
      "\u001b[1m140/140\u001b[0m \u001b[32m━━━━━━━━━━━━━━━━━━━━\u001b[0m\u001b[37m\u001b[0m \u001b[1m2s\u001b[0m 8ms/step - accuracy: 0.5439 - loss: 0.6897 - val_accuracy: 0.5633 - val_loss: 0.7648\n",
      "Epoch 2/2\n",
      "\u001b[1m140/140\u001b[0m \u001b[32m━━━━━━━━━━━━━━━━━━━━\u001b[0m\u001b[37m\u001b[0m \u001b[1m1s\u001b[0m 7ms/step - accuracy: 0.8308 - loss: 0.4366 - val_accuracy: 0.7067 - val_loss: 0.5783\n"
     ]
    }
   ],
   "source": [
    "y_train = (np.array(y_train) + 1) // 2  \n",
    "y_test = (np.array(y_test) + 1) // 2\n",
    "\n",
    "vocab_size = 5000 \n",
    "embedding_dim = 32\n",
    "max_length = L  \n",
    "\n",
    "model_embedding = Sequential()\n",
    "model_embedding.add(Embedding(input_dim=vocab_size, output_dim=embedding_dim, input_length=max_length))\n",
    "model_embedding.add(Flatten())\n",
    "model_embedding.add(Dense(10, activation='relu'))\n",
    "model_embedding.add(Dense(1, activation='sigmoid'))\n",
    "model_embedding.build(input_shape=(None, max_length))\n",
    "model_embedding.summary()\n",
    "model_embedding.compile(optimizer='adam', loss='binary_crossentropy', metrics=['accuracy'])\n",
    "history = model_embedding.fit(x_train_seq, y_train, epochs=2, batch_size=10, validation_data=(x_test_seq, y_test))"
   ]
  },
  {
   "cell_type": "code",
   "execution_count": 16,
   "id": "1c05936e",
   "metadata": {},
   "outputs": [
    {
     "data": {
      "text/html": [
       "<div>\n",
       "<style scoped>\n",
       "    .dataframe tbody tr th:only-of-type {\n",
       "        vertical-align: middle;\n",
       "    }\n",
       "\n",
       "    .dataframe tbody tr th {\n",
       "        vertical-align: top;\n",
       "    }\n",
       "\n",
       "    .dataframe thead th {\n",
       "        text-align: right;\n",
       "    }\n",
       "</style>\n",
       "<table border=\"1\" class=\"dataframe\">\n",
       "  <thead>\n",
       "    <tr style=\"text-align: right;\">\n",
       "      <th></th>\n",
       "      <th>Metric</th>\n",
       "      <th>Training</th>\n",
       "      <th>Validation</th>\n",
       "      <th>Testing</th>\n",
       "    </tr>\n",
       "  </thead>\n",
       "  <tbody>\n",
       "    <tr>\n",
       "      <th>0</th>\n",
       "      <td>Accuracy</td>\n",
       "      <td>85.07%</td>\n",
       "      <td>70.67%</td>\n",
       "      <td>70.67%</td>\n",
       "    </tr>\n",
       "    <tr>\n",
       "      <th>1</th>\n",
       "      <td>Loss</td>\n",
       "      <td>0.3593</td>\n",
       "      <td>0.5783</td>\n",
       "      <td>0.5783</td>\n",
       "    </tr>\n",
       "  </tbody>\n",
       "</table>\n",
       "</div>"
      ],
      "text/plain": [
       "     Metric Training Validation Testing\n",
       "0  Accuracy   85.07%     70.67%  70.67%\n",
       "1      Loss   0.3593     0.5783  0.5783"
      ]
     },
     "metadata": {},
     "output_type": "display_data"
    }
   ],
   "source": [
    "train_acc = history.history['accuracy']\n",
    "val_acc = history.history['val_accuracy']\n",
    "\n",
    "train_loss = history.history['loss']\n",
    "val_loss = history.history['val_loss']\n",
    "\n",
    "test_loss, test_acc = model_embedding.evaluate(x_test_seq, y_test, verbose=0)\n",
    "\n",
    "results = pd.DataFrame({\n",
    "    \"Metric\": [\"Accuracy\", \"Loss\"],\n",
    "    \"Training\": [f\"{train_acc[-1]*100:.2f}%\", f\"{train_loss[-1]:.4f}\"],\n",
    "    \"Validation\": [f\"{val_acc[-1]*100:.2f}%\", f\"{val_loss[-1]:.4f}\"],\n",
    "    \"Testing\": [f\"{test_acc*100:.2f}%\", f\"{test_loss:.4f}\"]\n",
    "})\n",
    "\n",
    "display(results)"
   ]
  },
  {
   "cell_type": "markdown",
   "id": "1cb3a721",
   "metadata": {},
   "source": [
    "<h3>Q1 (d) Multi-Layer Perceptron</h3>"
   ]
  },
  {
   "cell_type": "markdown",
   "id": "a1066d58",
   "metadata": {},
   "source": [
    "<h3>Q1 (d) i. Train a MLP with three (dense) hidden layers each of which has 50 ReLUs and one output layer with a single sigmoid neuron. Use a dropout rate of 20% for the first layer and 50% for the other layers. Use ADAM optimizer and binary cross entropy loss (which is equivalent to having a softmax in the output). To avoid overfitting, just set the number of epochs as 2. Use a batch size of 10</h3>"
   ]
  },
  {
   "cell_type": "code",
   "execution_count": 17,
   "id": "5ec799ea",
   "metadata": {},
   "outputs": [
    {
     "name": "stdout",
     "output_type": "stream",
     "text": [
      "Expected Flattened Size for observation purposes: 20832\n"
     ]
    },
    {
     "data": {
      "text/html": [
       "<pre style=\"white-space:pre;overflow-x:auto;line-height:normal;font-family:Menlo,'DejaVu Sans Mono',consolas,'Courier New',monospace\"><span style=\"font-weight: bold\">Model: \"sequential_1\"</span>\n",
       "</pre>\n"
      ],
      "text/plain": [
       "\u001b[1mModel: \"sequential_1\"\u001b[0m\n"
      ]
     },
     "metadata": {},
     "output_type": "display_data"
    },
    {
     "data": {
      "text/html": [
       "<pre style=\"white-space:pre;overflow-x:auto;line-height:normal;font-family:Menlo,'DejaVu Sans Mono',consolas,'Courier New',monospace\">┏━━━━━━━━━━━━━━━━━━━━━━━━━━━━━━━━━━━━━━┳━━━━━━━━━━━━━━━━━━━━━━━━━━━━━┳━━━━━━━━━━━━━━━━━┓\n",
       "┃<span style=\"font-weight: bold\"> Layer (type)                         </span>┃<span style=\"font-weight: bold\"> Output Shape                </span>┃<span style=\"font-weight: bold\">         Param # </span>┃\n",
       "┡━━━━━━━━━━━━━━━━━━━━━━━━━━━━━━━━━━━━━━╇━━━━━━━━━━━━━━━━━━━━━━━━━━━━━╇━━━━━━━━━━━━━━━━━┩\n",
       "│ embedding_1 (<span style=\"color: #0087ff; text-decoration-color: #0087ff\">Embedding</span>)              │ (<span style=\"color: #00d7ff; text-decoration-color: #00d7ff\">None</span>, <span style=\"color: #00af00; text-decoration-color: #00af00\">651</span>, <span style=\"color: #00af00; text-decoration-color: #00af00\">32</span>)             │         <span style=\"color: #00af00; text-decoration-color: #00af00\">160,000</span> │\n",
       "├──────────────────────────────────────┼─────────────────────────────┼─────────────────┤\n",
       "│ flatten_1 (<span style=\"color: #0087ff; text-decoration-color: #0087ff\">Flatten</span>)                  │ (<span style=\"color: #00d7ff; text-decoration-color: #00d7ff\">None</span>, <span style=\"color: #00af00; text-decoration-color: #00af00\">20832</span>)               │               <span style=\"color: #00af00; text-decoration-color: #00af00\">0</span> │\n",
       "├──────────────────────────────────────┼─────────────────────────────┼─────────────────┤\n",
       "│ dense_2 (<span style=\"color: #0087ff; text-decoration-color: #0087ff\">Dense</span>)                      │ (<span style=\"color: #00d7ff; text-decoration-color: #00d7ff\">None</span>, <span style=\"color: #00af00; text-decoration-color: #00af00\">50</span>)                  │       <span style=\"color: #00af00; text-decoration-color: #00af00\">1,041,650</span> │\n",
       "├──────────────────────────────────────┼─────────────────────────────┼─────────────────┤\n",
       "│ dropout (<span style=\"color: #0087ff; text-decoration-color: #0087ff\">Dropout</span>)                    │ (<span style=\"color: #00d7ff; text-decoration-color: #00d7ff\">None</span>, <span style=\"color: #00af00; text-decoration-color: #00af00\">50</span>)                  │               <span style=\"color: #00af00; text-decoration-color: #00af00\">0</span> │\n",
       "├──────────────────────────────────────┼─────────────────────────────┼─────────────────┤\n",
       "│ dense_3 (<span style=\"color: #0087ff; text-decoration-color: #0087ff\">Dense</span>)                      │ (<span style=\"color: #00d7ff; text-decoration-color: #00d7ff\">None</span>, <span style=\"color: #00af00; text-decoration-color: #00af00\">50</span>)                  │           <span style=\"color: #00af00; text-decoration-color: #00af00\">2,550</span> │\n",
       "├──────────────────────────────────────┼─────────────────────────────┼─────────────────┤\n",
       "│ dropout_1 (<span style=\"color: #0087ff; text-decoration-color: #0087ff\">Dropout</span>)                  │ (<span style=\"color: #00d7ff; text-decoration-color: #00d7ff\">None</span>, <span style=\"color: #00af00; text-decoration-color: #00af00\">50</span>)                  │               <span style=\"color: #00af00; text-decoration-color: #00af00\">0</span> │\n",
       "├──────────────────────────────────────┼─────────────────────────────┼─────────────────┤\n",
       "│ dense_4 (<span style=\"color: #0087ff; text-decoration-color: #0087ff\">Dense</span>)                      │ (<span style=\"color: #00d7ff; text-decoration-color: #00d7ff\">None</span>, <span style=\"color: #00af00; text-decoration-color: #00af00\">50</span>)                  │           <span style=\"color: #00af00; text-decoration-color: #00af00\">2,550</span> │\n",
       "├──────────────────────────────────────┼─────────────────────────────┼─────────────────┤\n",
       "│ dropout_2 (<span style=\"color: #0087ff; text-decoration-color: #0087ff\">Dropout</span>)                  │ (<span style=\"color: #00d7ff; text-decoration-color: #00d7ff\">None</span>, <span style=\"color: #00af00; text-decoration-color: #00af00\">50</span>)                  │               <span style=\"color: #00af00; text-decoration-color: #00af00\">0</span> │\n",
       "├──────────────────────────────────────┼─────────────────────────────┼─────────────────┤\n",
       "│ dense_5 (<span style=\"color: #0087ff; text-decoration-color: #0087ff\">Dense</span>)                      │ (<span style=\"color: #00d7ff; text-decoration-color: #00d7ff\">None</span>, <span style=\"color: #00af00; text-decoration-color: #00af00\">1</span>)                   │              <span style=\"color: #00af00; text-decoration-color: #00af00\">51</span> │\n",
       "└──────────────────────────────────────┴─────────────────────────────┴─────────────────┘\n",
       "</pre>\n"
      ],
      "text/plain": [
       "┏━━━━━━━━━━━━━━━━━━━━━━━━━━━━━━━━━━━━━━┳━━━━━━━━━━━━━━━━━━━━━━━━━━━━━┳━━━━━━━━━━━━━━━━━┓\n",
       "┃\u001b[1m \u001b[0m\u001b[1mLayer (type)                        \u001b[0m\u001b[1m \u001b[0m┃\u001b[1m \u001b[0m\u001b[1mOutput Shape               \u001b[0m\u001b[1m \u001b[0m┃\u001b[1m \u001b[0m\u001b[1m        Param #\u001b[0m\u001b[1m \u001b[0m┃\n",
       "┡━━━━━━━━━━━━━━━━━━━━━━━━━━━━━━━━━━━━━━╇━━━━━━━━━━━━━━━━━━━━━━━━━━━━━╇━━━━━━━━━━━━━━━━━┩\n",
       "│ embedding_1 (\u001b[38;5;33mEmbedding\u001b[0m)              │ (\u001b[38;5;45mNone\u001b[0m, \u001b[38;5;34m651\u001b[0m, \u001b[38;5;34m32\u001b[0m)             │         \u001b[38;5;34m160,000\u001b[0m │\n",
       "├──────────────────────────────────────┼─────────────────────────────┼─────────────────┤\n",
       "│ flatten_1 (\u001b[38;5;33mFlatten\u001b[0m)                  │ (\u001b[38;5;45mNone\u001b[0m, \u001b[38;5;34m20832\u001b[0m)               │               \u001b[38;5;34m0\u001b[0m │\n",
       "├──────────────────────────────────────┼─────────────────────────────┼─────────────────┤\n",
       "│ dense_2 (\u001b[38;5;33mDense\u001b[0m)                      │ (\u001b[38;5;45mNone\u001b[0m, \u001b[38;5;34m50\u001b[0m)                  │       \u001b[38;5;34m1,041,650\u001b[0m │\n",
       "├──────────────────────────────────────┼─────────────────────────────┼─────────────────┤\n",
       "│ dropout (\u001b[38;5;33mDropout\u001b[0m)                    │ (\u001b[38;5;45mNone\u001b[0m, \u001b[38;5;34m50\u001b[0m)                  │               \u001b[38;5;34m0\u001b[0m │\n",
       "├──────────────────────────────────────┼─────────────────────────────┼─────────────────┤\n",
       "│ dense_3 (\u001b[38;5;33mDense\u001b[0m)                      │ (\u001b[38;5;45mNone\u001b[0m, \u001b[38;5;34m50\u001b[0m)                  │           \u001b[38;5;34m2,550\u001b[0m │\n",
       "├──────────────────────────────────────┼─────────────────────────────┼─────────────────┤\n",
       "│ dropout_1 (\u001b[38;5;33mDropout\u001b[0m)                  │ (\u001b[38;5;45mNone\u001b[0m, \u001b[38;5;34m50\u001b[0m)                  │               \u001b[38;5;34m0\u001b[0m │\n",
       "├──────────────────────────────────────┼─────────────────────────────┼─────────────────┤\n",
       "│ dense_4 (\u001b[38;5;33mDense\u001b[0m)                      │ (\u001b[38;5;45mNone\u001b[0m, \u001b[38;5;34m50\u001b[0m)                  │           \u001b[38;5;34m2,550\u001b[0m │\n",
       "├──────────────────────────────────────┼─────────────────────────────┼─────────────────┤\n",
       "│ dropout_2 (\u001b[38;5;33mDropout\u001b[0m)                  │ (\u001b[38;5;45mNone\u001b[0m, \u001b[38;5;34m50\u001b[0m)                  │               \u001b[38;5;34m0\u001b[0m │\n",
       "├──────────────────────────────────────┼─────────────────────────────┼─────────────────┤\n",
       "│ dense_5 (\u001b[38;5;33mDense\u001b[0m)                      │ (\u001b[38;5;45mNone\u001b[0m, \u001b[38;5;34m1\u001b[0m)                   │              \u001b[38;5;34m51\u001b[0m │\n",
       "└──────────────────────────────────────┴─────────────────────────────┴─────────────────┘\n"
      ]
     },
     "metadata": {},
     "output_type": "display_data"
    },
    {
     "data": {
      "text/html": [
       "<pre style=\"white-space:pre;overflow-x:auto;line-height:normal;font-family:Menlo,'DejaVu Sans Mono',consolas,'Courier New',monospace\"><span style=\"font-weight: bold\"> Total params: </span><span style=\"color: #00af00; text-decoration-color: #00af00\">1,206,801</span> (4.60 MB)\n",
       "</pre>\n"
      ],
      "text/plain": [
       "\u001b[1m Total params: \u001b[0m\u001b[38;5;34m1,206,801\u001b[0m (4.60 MB)\n"
      ]
     },
     "metadata": {},
     "output_type": "display_data"
    },
    {
     "data": {
      "text/html": [
       "<pre style=\"white-space:pre;overflow-x:auto;line-height:normal;font-family:Menlo,'DejaVu Sans Mono',consolas,'Courier New',monospace\"><span style=\"font-weight: bold\"> Trainable params: </span><span style=\"color: #00af00; text-decoration-color: #00af00\">1,206,801</span> (4.60 MB)\n",
       "</pre>\n"
      ],
      "text/plain": [
       "\u001b[1m Trainable params: \u001b[0m\u001b[38;5;34m1,206,801\u001b[0m (4.60 MB)\n"
      ]
     },
     "metadata": {},
     "output_type": "display_data"
    },
    {
     "data": {
      "text/html": [
       "<pre style=\"white-space:pre;overflow-x:auto;line-height:normal;font-family:Menlo,'DejaVu Sans Mono',consolas,'Courier New',monospace\"><span style=\"font-weight: bold\"> Non-trainable params: </span><span style=\"color: #00af00; text-decoration-color: #00af00\">0</span> (0.00 B)\n",
       "</pre>\n"
      ],
      "text/plain": [
       "\u001b[1m Non-trainable params: \u001b[0m\u001b[38;5;34m0\u001b[0m (0.00 B)\n"
      ]
     },
     "metadata": {},
     "output_type": "display_data"
    }
   ],
   "source": [
    "#defining the parameters\n",
    "vocab_size = 5000\n",
    "embedding_dim = 32\n",
    "max_length = 651 \n",
    "\n",
    "expected_flattened_size = max_length * embedding_dim\n",
    "print(f\"Expected Flattened Size for observation purposes: {expected_flattened_size}\")  \n",
    "\n",
    "mlp_model = Sequential()\n",
    "mlp_model.add(Embedding(input_dim=vocab_size, output_dim=embedding_dim, input_length=max_length))\n",
    "mlp_model.add(Flatten())\n",
    "mlp_model.add(Dense(50, activation='relu'))\n",
    "mlp_model.add(Dropout(0.2))\n",
    "mlp_model.add(Dense(50, activation='relu'))\n",
    "mlp_model.add(Dropout(0.5))\n",
    "mlp_model.add(Dense(50, activation='relu'))\n",
    "mlp_model.add(Dropout(0.5))\n",
    "mlp_model.add(Dense(1, activation='sigmoid'))\n",
    "mlp_model.build(input_shape=(None, max_length))\n",
    "mlp_model.compile(optimizer='adam', loss='binary_crossentropy', metrics=['accuracy'])\n",
    "mlp_model.summary()"
   ]
  },
  {
   "cell_type": "code",
   "execution_count": 18,
   "id": "4d0c616c",
   "metadata": {},
   "outputs": [
    {
     "name": "stdout",
     "output_type": "stream",
     "text": [
      "Epoch 1/2\n",
      "\u001b[1m140/140\u001b[0m \u001b[32m━━━━━━━━━━━━━━━━━━━━\u001b[0m\u001b[37m\u001b[0m \u001b[1m3s\u001b[0m 14ms/step - accuracy: 0.5251 - loss: 0.6962 - val_accuracy: 0.5000 - val_loss: 0.6974\n",
      "Epoch 2/2\n",
      "\u001b[1m140/140\u001b[0m \u001b[32m━━━━━━━━━━━━━━━━━━━━\u001b[0m\u001b[37m\u001b[0m \u001b[1m1s\u001b[0m 10ms/step - accuracy: 0.6220 - loss: 0.6581 - val_accuracy: 0.5567 - val_loss: 0.6878\n"
     ]
    }
   ],
   "source": [
    "history = mlp_model.fit(x_train_seq, y_train, epochs=2, batch_size=10, validation_data=(x_test_seq, y_test))"
   ]
  },
  {
   "cell_type": "markdown",
   "id": "aa0da7de",
   "metadata": {},
   "source": [
    "<h3>Q1 (d) ii. Report the train and test accuracies of this model.</h3>"
   ]
  },
  {
   "cell_type": "code",
   "execution_count": 19,
   "id": "4a3fa497",
   "metadata": {},
   "outputs": [
    {
     "data": {
      "text/html": [
       "<div>\n",
       "<style scoped>\n",
       "    .dataframe tbody tr th:only-of-type {\n",
       "        vertical-align: middle;\n",
       "    }\n",
       "\n",
       "    .dataframe tbody tr th {\n",
       "        vertical-align: top;\n",
       "    }\n",
       "\n",
       "    .dataframe thead th {\n",
       "        text-align: right;\n",
       "    }\n",
       "</style>\n",
       "<table border=\"1\" class=\"dataframe\">\n",
       "  <thead>\n",
       "    <tr style=\"text-align: right;\">\n",
       "      <th></th>\n",
       "      <th>Metric</th>\n",
       "      <th>Training</th>\n",
       "      <th>Validation</th>\n",
       "      <th>Testing</th>\n",
       "    </tr>\n",
       "  </thead>\n",
       "  <tbody>\n",
       "    <tr>\n",
       "      <th>0</th>\n",
       "      <td>Accuracy</td>\n",
       "      <td>62.93%</td>\n",
       "      <td>55.67%</td>\n",
       "      <td>55.67%</td>\n",
       "    </tr>\n",
       "    <tr>\n",
       "      <th>1</th>\n",
       "      <td>Loss</td>\n",
       "      <td>0.6462</td>\n",
       "      <td>0.6878</td>\n",
       "      <td>0.6878</td>\n",
       "    </tr>\n",
       "  </tbody>\n",
       "</table>\n",
       "</div>"
      ],
      "text/plain": [
       "     Metric Training Validation Testing\n",
       "0  Accuracy   62.93%     55.67%  55.67%\n",
       "1      Loss   0.6462     0.6878  0.6878"
      ]
     },
     "metadata": {},
     "output_type": "display_data"
    }
   ],
   "source": [
    "#Referred by chatgpt : How to display the training and testing accuracies in keras tenserflow in a table format dated: 05/03/2024\n",
    "train_acc = history.history['accuracy'][-1] * 100\n",
    "val_acc = history.history['val_accuracy'][-1] * 100\n",
    "train_loss = history.history['loss'][-1]\n",
    "val_loss = history.history['val_loss'][-1]\n",
    "\n",
    "train_loss_eval, train_acc_eval = mlp_model.evaluate(x_train_seq, y_train, verbose=0)\n",
    "test_loss, test_acc = mlp_model.evaluate(x_test_seq, y_test, verbose=0)\n",
    "\n",
    "results = pd.DataFrame({\n",
    "    \"Metric\": [\"Accuracy\", \"Loss\"],\n",
    "    \"Training\": [f\"{train_acc:.2f}%\", f\"{train_loss:.4f}\"],\n",
    "    \"Validation\": [f\"{val_acc:.2f}%\", f\"{val_loss:.4f}\"],\n",
    "    \"Testing\": [f\"{test_acc*100:.2f}%\", f\"{test_loss:.4f}\"]\n",
    "})\n",
    "\n",
    "display(results)"
   ]
  },
  {
   "cell_type": "markdown",
   "id": "7dcb00bc",
   "metadata": {},
   "source": [
    "<h3>Q1 (e) One-Dimensional Convolutional Neural Network</h3>"
   ]
  },
  {
   "cell_type": "markdown",
   "id": "a395b06f",
   "metadata": {},
   "source": [
    "<h3>Although CNNs are mainly used for image data, they can also be applied to text data, as text also has adjacency information. Keras supports one-dimensional convolutions and pooling by the Conv1D and MaxPooling1D classes respectively.</h3>"
   ]
  },
  {
   "cell_type": "markdown",
   "id": "9872ee00",
   "metadata": {},
   "source": [
    "<h3>Q1 (e) i. After the embedding layer, insert a Conv1D layer. This convolutional layer has 32 feature maps , and each of the 32 kernels has size 3, i.e. reads embedded word representations 3 vector elements of the word embedding at a time. The convolutional layer is followed by a 1D max pooling layer with a length and stride of 2 that halves the size of the feature maps from the convolutional layer. The rest of the network is the same as the neural network above.</h3>"
   ]
  },
  {
   "cell_type": "code",
   "execution_count": 20,
   "id": "b6357bda",
   "metadata": {},
   "outputs": [
    {
     "data": {
      "text/html": [
       "<pre style=\"white-space:pre;overflow-x:auto;line-height:normal;font-family:Menlo,'DejaVu Sans Mono',consolas,'Courier New',monospace\"><span style=\"font-weight: bold\">Model: \"sequential_2\"</span>\n",
       "</pre>\n"
      ],
      "text/plain": [
       "\u001b[1mModel: \"sequential_2\"\u001b[0m\n"
      ]
     },
     "metadata": {},
     "output_type": "display_data"
    },
    {
     "data": {
      "text/html": [
       "<pre style=\"white-space:pre;overflow-x:auto;line-height:normal;font-family:Menlo,'DejaVu Sans Mono',consolas,'Courier New',monospace\">┏━━━━━━━━━━━━━━━━━━━━━━━━━━━━━━━━━━━━━━┳━━━━━━━━━━━━━━━━━━━━━━━━━━━━━┳━━━━━━━━━━━━━━━━━┓\n",
       "┃<span style=\"font-weight: bold\"> Layer (type)                         </span>┃<span style=\"font-weight: bold\"> Output Shape                </span>┃<span style=\"font-weight: bold\">         Param # </span>┃\n",
       "┡━━━━━━━━━━━━━━━━━━━━━━━━━━━━━━━━━━━━━━╇━━━━━━━━━━━━━━━━━━━━━━━━━━━━━╇━━━━━━━━━━━━━━━━━┩\n",
       "│ embedding_2 (<span style=\"color: #0087ff; text-decoration-color: #0087ff\">Embedding</span>)              │ (<span style=\"color: #00d7ff; text-decoration-color: #00d7ff\">None</span>, <span style=\"color: #00af00; text-decoration-color: #00af00\">651</span>, <span style=\"color: #00af00; text-decoration-color: #00af00\">32</span>)             │         <span style=\"color: #00af00; text-decoration-color: #00af00\">160,000</span> │\n",
       "├──────────────────────────────────────┼─────────────────────────────┼─────────────────┤\n",
       "│ conv1d (<span style=\"color: #0087ff; text-decoration-color: #0087ff\">Conv1D</span>)                      │ (<span style=\"color: #00d7ff; text-decoration-color: #00d7ff\">None</span>, <span style=\"color: #00af00; text-decoration-color: #00af00\">649</span>, <span style=\"color: #00af00; text-decoration-color: #00af00\">32</span>)             │           <span style=\"color: #00af00; text-decoration-color: #00af00\">3,104</span> │\n",
       "├──────────────────────────────────────┼─────────────────────────────┼─────────────────┤\n",
       "│ max_pooling1d (<span style=\"color: #0087ff; text-decoration-color: #0087ff\">MaxPooling1D</span>)         │ (<span style=\"color: #00d7ff; text-decoration-color: #00d7ff\">None</span>, <span style=\"color: #00af00; text-decoration-color: #00af00\">324</span>, <span style=\"color: #00af00; text-decoration-color: #00af00\">32</span>)             │               <span style=\"color: #00af00; text-decoration-color: #00af00\">0</span> │\n",
       "├──────────────────────────────────────┼─────────────────────────────┼─────────────────┤\n",
       "│ flatten_2 (<span style=\"color: #0087ff; text-decoration-color: #0087ff\">Flatten</span>)                  │ (<span style=\"color: #00d7ff; text-decoration-color: #00d7ff\">None</span>, <span style=\"color: #00af00; text-decoration-color: #00af00\">10368</span>)               │               <span style=\"color: #00af00; text-decoration-color: #00af00\">0</span> │\n",
       "├──────────────────────────────────────┼─────────────────────────────┼─────────────────┤\n",
       "│ dense_6 (<span style=\"color: #0087ff; text-decoration-color: #0087ff\">Dense</span>)                      │ (<span style=\"color: #00d7ff; text-decoration-color: #00d7ff\">None</span>, <span style=\"color: #00af00; text-decoration-color: #00af00\">1</span>)                   │          <span style=\"color: #00af00; text-decoration-color: #00af00\">10,369</span> │\n",
       "└──────────────────────────────────────┴─────────────────────────────┴─────────────────┘\n",
       "</pre>\n"
      ],
      "text/plain": [
       "┏━━━━━━━━━━━━━━━━━━━━━━━━━━━━━━━━━━━━━━┳━━━━━━━━━━━━━━━━━━━━━━━━━━━━━┳━━━━━━━━━━━━━━━━━┓\n",
       "┃\u001b[1m \u001b[0m\u001b[1mLayer (type)                        \u001b[0m\u001b[1m \u001b[0m┃\u001b[1m \u001b[0m\u001b[1mOutput Shape               \u001b[0m\u001b[1m \u001b[0m┃\u001b[1m \u001b[0m\u001b[1m        Param #\u001b[0m\u001b[1m \u001b[0m┃\n",
       "┡━━━━━━━━━━━━━━━━━━━━━━━━━━━━━━━━━━━━━━╇━━━━━━━━━━━━━━━━━━━━━━━━━━━━━╇━━━━━━━━━━━━━━━━━┩\n",
       "│ embedding_2 (\u001b[38;5;33mEmbedding\u001b[0m)              │ (\u001b[38;5;45mNone\u001b[0m, \u001b[38;5;34m651\u001b[0m, \u001b[38;5;34m32\u001b[0m)             │         \u001b[38;5;34m160,000\u001b[0m │\n",
       "├──────────────────────────────────────┼─────────────────────────────┼─────────────────┤\n",
       "│ conv1d (\u001b[38;5;33mConv1D\u001b[0m)                      │ (\u001b[38;5;45mNone\u001b[0m, \u001b[38;5;34m649\u001b[0m, \u001b[38;5;34m32\u001b[0m)             │           \u001b[38;5;34m3,104\u001b[0m │\n",
       "├──────────────────────────────────────┼─────────────────────────────┼─────────────────┤\n",
       "│ max_pooling1d (\u001b[38;5;33mMaxPooling1D\u001b[0m)         │ (\u001b[38;5;45mNone\u001b[0m, \u001b[38;5;34m324\u001b[0m, \u001b[38;5;34m32\u001b[0m)             │               \u001b[38;5;34m0\u001b[0m │\n",
       "├──────────────────────────────────────┼─────────────────────────────┼─────────────────┤\n",
       "│ flatten_2 (\u001b[38;5;33mFlatten\u001b[0m)                  │ (\u001b[38;5;45mNone\u001b[0m, \u001b[38;5;34m10368\u001b[0m)               │               \u001b[38;5;34m0\u001b[0m │\n",
       "├──────────────────────────────────────┼─────────────────────────────┼─────────────────┤\n",
       "│ dense_6 (\u001b[38;5;33mDense\u001b[0m)                      │ (\u001b[38;5;45mNone\u001b[0m, \u001b[38;5;34m1\u001b[0m)                   │          \u001b[38;5;34m10,369\u001b[0m │\n",
       "└──────────────────────────────────────┴─────────────────────────────┴─────────────────┘\n"
      ]
     },
     "metadata": {},
     "output_type": "display_data"
    },
    {
     "data": {
      "text/html": [
       "<pre style=\"white-space:pre;overflow-x:auto;line-height:normal;font-family:Menlo,'DejaVu Sans Mono',consolas,'Courier New',monospace\"><span style=\"font-weight: bold\"> Total params: </span><span style=\"color: #00af00; text-decoration-color: #00af00\">173,473</span> (677.63 KB)\n",
       "</pre>\n"
      ],
      "text/plain": [
       "\u001b[1m Total params: \u001b[0m\u001b[38;5;34m173,473\u001b[0m (677.63 KB)\n"
      ]
     },
     "metadata": {},
     "output_type": "display_data"
    },
    {
     "data": {
      "text/html": [
       "<pre style=\"white-space:pre;overflow-x:auto;line-height:normal;font-family:Menlo,'DejaVu Sans Mono',consolas,'Courier New',monospace\"><span style=\"font-weight: bold\"> Trainable params: </span><span style=\"color: #00af00; text-decoration-color: #00af00\">173,473</span> (677.63 KB)\n",
       "</pre>\n"
      ],
      "text/plain": [
       "\u001b[1m Trainable params: \u001b[0m\u001b[38;5;34m173,473\u001b[0m (677.63 KB)\n"
      ]
     },
     "metadata": {},
     "output_type": "display_data"
    },
    {
     "data": {
      "text/html": [
       "<pre style=\"white-space:pre;overflow-x:auto;line-height:normal;font-family:Menlo,'DejaVu Sans Mono',consolas,'Courier New',monospace\"><span style=\"font-weight: bold\"> Non-trainable params: </span><span style=\"color: #00af00; text-decoration-color: #00af00\">0</span> (0.00 B)\n",
       "</pre>\n"
      ],
      "text/plain": [
       "\u001b[1m Non-trainable params: \u001b[0m\u001b[38;5;34m0\u001b[0m (0.00 B)\n"
      ]
     },
     "metadata": {},
     "output_type": "display_data"
    }
   ],
   "source": [
    "#defining the parameters\n",
    "#Reference from https://keras.io/api/layers/convolution_layers/convolution1d/ for defining the hyper parameters\n",
    "vocab_size = 5000 \n",
    "embedding_dim = 32\n",
    "max_length = 651  \n",
    "conv_model = Sequential()\n",
    "conv_model.add(Embedding(input_dim=vocab_size, output_dim=embedding_dim, input_length=max_length))\n",
    "conv_model.add(Conv1D(filters=32, kernel_size=3, activation='relu'))\n",
    "conv_model.add(MaxPooling1D(pool_size=2))\n",
    "conv_model.add(Flatten())\n",
    "# conv_model.add(Dense(50, activation='relu'))\n",
    "# conv_model.add(Dropout(0.5))\n",
    "# conv_model.add(Dense(50, activation='relu'))\n",
    "# conv_model.add(Dropout(0.5))\n",
    "conv_model.add(Dense(1, activation='sigmoid'))\n",
    "conv_model.build(input_shape=(None, max_length))  \n",
    "conv_model.compile(optimizer='adam', loss='binary_crossentropy', metrics=['accuracy'])\n",
    "conv_model.summary()"
   ]
  },
  {
   "cell_type": "code",
   "execution_count": 21,
   "id": "40c41335",
   "metadata": {},
   "outputs": [
    {
     "name": "stdout",
     "output_type": "stream",
     "text": [
      "Epoch 1/2\n",
      "\u001b[1m140/140\u001b[0m \u001b[32m━━━━━━━━━━━━━━━━━━━━\u001b[0m\u001b[37m\u001b[0m \u001b[1m3s\u001b[0m 12ms/step - accuracy: 0.4899 - loss: 0.6964 - val_accuracy: 0.5417 - val_loss: 0.6902\n",
      "Epoch 2/2\n",
      "\u001b[1m140/140\u001b[0m \u001b[32m━━━━━━━━━━━━━━━━━━━━\u001b[0m\u001b[37m\u001b[0m \u001b[1m2s\u001b[0m 10ms/step - accuracy: 0.6840 - loss: 0.6215 - val_accuracy: 0.6183 - val_loss: 0.6574\n"
     ]
    }
   ],
   "source": [
    "history = conv_model.fit(\n",
    "    x_train_seq,\n",
    "    y_train,\n",
    "    epochs=2,\n",
    "    batch_size=10,\n",
    "    validation_data=(x_test_seq, y_test)\n",
    ")"
   ]
  },
  {
   "cell_type": "markdown",
   "id": "69b63eae",
   "metadata": {},
   "source": [
    "<h3>Q1 (e) ii. Report the train and test accuracies of this model.</h3>"
   ]
  },
  {
   "cell_type": "code",
   "execution_count": 22,
   "id": "dd0a18d1",
   "metadata": {},
   "outputs": [
    {
     "data": {
      "text/html": [
       "<div>\n",
       "<style scoped>\n",
       "    .dataframe tbody tr th:only-of-type {\n",
       "        vertical-align: middle;\n",
       "    }\n",
       "\n",
       "    .dataframe tbody tr th {\n",
       "        vertical-align: top;\n",
       "    }\n",
       "\n",
       "    .dataframe thead th {\n",
       "        text-align: right;\n",
       "    }\n",
       "</style>\n",
       "<table border=\"1\" class=\"dataframe\">\n",
       "  <thead>\n",
       "    <tr style=\"text-align: right;\">\n",
       "      <th></th>\n",
       "      <th>Metric</th>\n",
       "      <th>Training</th>\n",
       "      <th>Validation</th>\n",
       "      <th>Testing</th>\n",
       "    </tr>\n",
       "  </thead>\n",
       "  <tbody>\n",
       "    <tr>\n",
       "      <th>0</th>\n",
       "      <td>Accuracy (%)</td>\n",
       "      <td>70.93</td>\n",
       "      <td>61.83</td>\n",
       "      <td>61.83</td>\n",
       "    </tr>\n",
       "    <tr>\n",
       "      <th>1</th>\n",
       "      <td>Loss</td>\n",
       "      <td>0.5953</td>\n",
       "      <td>0.6574</td>\n",
       "      <td>0.6574</td>\n",
       "    </tr>\n",
       "  </tbody>\n",
       "</table>\n",
       "</div>"
      ],
      "text/plain": [
       "         Metric Training Validation Testing\n",
       "0  Accuracy (%)    70.93      61.83   61.83\n",
       "1          Loss   0.5953     0.6574  0.6574"
      ]
     },
     "metadata": {},
     "output_type": "display_data"
    }
   ],
   "source": [
    "train_acc = history.history['accuracy'][-1] * 100\n",
    "val_acc = history.history['val_accuracy'][-1] * 100\n",
    "train_loss = history.history['loss'][-1]\n",
    "val_loss = history.history['val_loss'][-1]\n",
    "\n",
    "train_loss_eval, train_acc_eval = conv_model.evaluate(x_train_seq, y_train, verbose=0)\n",
    "\n",
    "test_loss, test_acc = conv_model.evaluate(x_test_seq, y_test, verbose=0)\n",
    "\n",
    "\n",
    "results = pd.DataFrame({\n",
    "    \"Metric\": [\"Accuracy (%)\", \"Loss\"],\n",
    "    \"Training\": [f\"{train_acc:.2f}\", f\"{train_loss:.4f}\"],\n",
    "    \"Validation\": [f\"{val_acc:.2f}\", f\"{val_loss:.4f}\"],\n",
    "    \"Testing\": [f\"{test_acc*100:.2f}\", f\"{test_loss:.4f}\"]\n",
    "})\n",
    "\n",
    "display(results)"
   ]
  },
  {
   "cell_type": "markdown",
   "id": "83b6de60",
   "metadata": {},
   "source": [
    "<h3>Q1 (f) Long Short-Term Memory Recurrent Neural Network</h3>"
   ]
  },
  {
   "cell_type": "markdown",
   "id": "d1527040",
   "metadata": {},
   "source": [
    "<h3>The structure of the LSTM we are going to use is shown in the following figure</h3>"
   ]
  },
  {
   "cell_type": "markdown",
   "id": "44aeed5a",
   "metadata": {},
   "source": [
    "<h3>Q1 (f) i. Each word is represented to LSTM as a vector of 32 elements and the LSTM is followed by a dense layer of 256 ReLUs. Use a dropout rate of 0.2 for both LSTM and the dense layer. Train the model using 10-50 epochs and batch size of 10</h3>"
   ]
  },
  {
   "cell_type": "code",
   "execution_count": 23,
   "id": "58f60e67",
   "metadata": {},
   "outputs": [
    {
     "data": {
      "text/html": [
       "<pre style=\"white-space:pre;overflow-x:auto;line-height:normal;font-family:Menlo,'DejaVu Sans Mono',consolas,'Courier New',monospace\"><span style=\"font-weight: bold\">Model: \"sequential_3\"</span>\n",
       "</pre>\n"
      ],
      "text/plain": [
       "\u001b[1mModel: \"sequential_3\"\u001b[0m\n"
      ]
     },
     "metadata": {},
     "output_type": "display_data"
    },
    {
     "data": {
      "text/html": [
       "<pre style=\"white-space:pre;overflow-x:auto;line-height:normal;font-family:Menlo,'DejaVu Sans Mono',consolas,'Courier New',monospace\">┏━━━━━━━━━━━━━━━━━━━━━━━━━━━━━━━━━━━━━━┳━━━━━━━━━━━━━━━━━━━━━━━━━━━━━┳━━━━━━━━━━━━━━━━━┓\n",
       "┃<span style=\"font-weight: bold\"> Layer (type)                         </span>┃<span style=\"font-weight: bold\"> Output Shape                </span>┃<span style=\"font-weight: bold\">         Param # </span>┃\n",
       "┡━━━━━━━━━━━━━━━━━━━━━━━━━━━━━━━━━━━━━━╇━━━━━━━━━━━━━━━━━━━━━━━━━━━━━╇━━━━━━━━━━━━━━━━━┩\n",
       "│ embedding_3 (<span style=\"color: #0087ff; text-decoration-color: #0087ff\">Embedding</span>)              │ (<span style=\"color: #00d7ff; text-decoration-color: #00d7ff\">None</span>, <span style=\"color: #00af00; text-decoration-color: #00af00\">651</span>, <span style=\"color: #00af00; text-decoration-color: #00af00\">32</span>)             │         <span style=\"color: #00af00; text-decoration-color: #00af00\">160,000</span> │\n",
       "├──────────────────────────────────────┼─────────────────────────────┼─────────────────┤\n",
       "│ lstm (<span style=\"color: #0087ff; text-decoration-color: #0087ff\">LSTM</span>)                          │ (<span style=\"color: #00d7ff; text-decoration-color: #00d7ff\">None</span>, <span style=\"color: #00af00; text-decoration-color: #00af00\">256</span>)                 │         <span style=\"color: #00af00; text-decoration-color: #00af00\">295,936</span> │\n",
       "├──────────────────────────────────────┼─────────────────────────────┼─────────────────┤\n",
       "│ dropout_3 (<span style=\"color: #0087ff; text-decoration-color: #0087ff\">Dropout</span>)                  │ (<span style=\"color: #00d7ff; text-decoration-color: #00d7ff\">None</span>, <span style=\"color: #00af00; text-decoration-color: #00af00\">256</span>)                 │               <span style=\"color: #00af00; text-decoration-color: #00af00\">0</span> │\n",
       "├──────────────────────────────────────┼─────────────────────────────┼─────────────────┤\n",
       "│ dense_7 (<span style=\"color: #0087ff; text-decoration-color: #0087ff\">Dense</span>)                      │ (<span style=\"color: #00d7ff; text-decoration-color: #00d7ff\">None</span>, <span style=\"color: #00af00; text-decoration-color: #00af00\">256</span>)                 │          <span style=\"color: #00af00; text-decoration-color: #00af00\">65,792</span> │\n",
       "├──────────────────────────────────────┼─────────────────────────────┼─────────────────┤\n",
       "│ dense_8 (<span style=\"color: #0087ff; text-decoration-color: #0087ff\">Dense</span>)                      │ (<span style=\"color: #00d7ff; text-decoration-color: #00d7ff\">None</span>, <span style=\"color: #00af00; text-decoration-color: #00af00\">1</span>)                   │             <span style=\"color: #00af00; text-decoration-color: #00af00\">257</span> │\n",
       "└──────────────────────────────────────┴─────────────────────────────┴─────────────────┘\n",
       "</pre>\n"
      ],
      "text/plain": [
       "┏━━━━━━━━━━━━━━━━━━━━━━━━━━━━━━━━━━━━━━┳━━━━━━━━━━━━━━━━━━━━━━━━━━━━━┳━━━━━━━━━━━━━━━━━┓\n",
       "┃\u001b[1m \u001b[0m\u001b[1mLayer (type)                        \u001b[0m\u001b[1m \u001b[0m┃\u001b[1m \u001b[0m\u001b[1mOutput Shape               \u001b[0m\u001b[1m \u001b[0m┃\u001b[1m \u001b[0m\u001b[1m        Param #\u001b[0m\u001b[1m \u001b[0m┃\n",
       "┡━━━━━━━━━━━━━━━━━━━━━━━━━━━━━━━━━━━━━━╇━━━━━━━━━━━━━━━━━━━━━━━━━━━━━╇━━━━━━━━━━━━━━━━━┩\n",
       "│ embedding_3 (\u001b[38;5;33mEmbedding\u001b[0m)              │ (\u001b[38;5;45mNone\u001b[0m, \u001b[38;5;34m651\u001b[0m, \u001b[38;5;34m32\u001b[0m)             │         \u001b[38;5;34m160,000\u001b[0m │\n",
       "├──────────────────────────────────────┼─────────────────────────────┼─────────────────┤\n",
       "│ lstm (\u001b[38;5;33mLSTM\u001b[0m)                          │ (\u001b[38;5;45mNone\u001b[0m, \u001b[38;5;34m256\u001b[0m)                 │         \u001b[38;5;34m295,936\u001b[0m │\n",
       "├──────────────────────────────────────┼─────────────────────────────┼─────────────────┤\n",
       "│ dropout_3 (\u001b[38;5;33mDropout\u001b[0m)                  │ (\u001b[38;5;45mNone\u001b[0m, \u001b[38;5;34m256\u001b[0m)                 │               \u001b[38;5;34m0\u001b[0m │\n",
       "├──────────────────────────────────────┼─────────────────────────────┼─────────────────┤\n",
       "│ dense_7 (\u001b[38;5;33mDense\u001b[0m)                      │ (\u001b[38;5;45mNone\u001b[0m, \u001b[38;5;34m256\u001b[0m)                 │          \u001b[38;5;34m65,792\u001b[0m │\n",
       "├──────────────────────────────────────┼─────────────────────────────┼─────────────────┤\n",
       "│ dense_8 (\u001b[38;5;33mDense\u001b[0m)                      │ (\u001b[38;5;45mNone\u001b[0m, \u001b[38;5;34m1\u001b[0m)                   │             \u001b[38;5;34m257\u001b[0m │\n",
       "└──────────────────────────────────────┴─────────────────────────────┴─────────────────┘\n"
      ]
     },
     "metadata": {},
     "output_type": "display_data"
    },
    {
     "data": {
      "text/html": [
       "<pre style=\"white-space:pre;overflow-x:auto;line-height:normal;font-family:Menlo,'DejaVu Sans Mono',consolas,'Courier New',monospace\"><span style=\"font-weight: bold\"> Total params: </span><span style=\"color: #00af00; text-decoration-color: #00af00\">521,985</span> (1.99 MB)\n",
       "</pre>\n"
      ],
      "text/plain": [
       "\u001b[1m Total params: \u001b[0m\u001b[38;5;34m521,985\u001b[0m (1.99 MB)\n"
      ]
     },
     "metadata": {},
     "output_type": "display_data"
    },
    {
     "data": {
      "text/html": [
       "<pre style=\"white-space:pre;overflow-x:auto;line-height:normal;font-family:Menlo,'DejaVu Sans Mono',consolas,'Courier New',monospace\"><span style=\"font-weight: bold\"> Trainable params: </span><span style=\"color: #00af00; text-decoration-color: #00af00\">521,985</span> (1.99 MB)\n",
       "</pre>\n"
      ],
      "text/plain": [
       "\u001b[1m Trainable params: \u001b[0m\u001b[38;5;34m521,985\u001b[0m (1.99 MB)\n"
      ]
     },
     "metadata": {},
     "output_type": "display_data"
    },
    {
     "data": {
      "text/html": [
       "<pre style=\"white-space:pre;overflow-x:auto;line-height:normal;font-family:Menlo,'DejaVu Sans Mono',consolas,'Courier New',monospace\"><span style=\"font-weight: bold\"> Non-trainable params: </span><span style=\"color: #00af00; text-decoration-color: #00af00\">0</span> (0.00 B)\n",
       "</pre>\n"
      ],
      "text/plain": [
       "\u001b[1m Non-trainable params: \u001b[0m\u001b[38;5;34m0\u001b[0m (0.00 B)\n"
      ]
     },
     "metadata": {},
     "output_type": "display_data"
    }
   ],
   "source": [
    "#defining the parameters\n",
    "vocab_size = 5000  \n",
    "embedding_dim = 32  \n",
    "max_length = 651 \n",
    "dropout_rate = 0.2  \n",
    "\n",
    "lstm_model = Sequential([\n",
    "    Embedding(vocab_size, embedding_dim, input_length=max_length),\n",
    "    LSTM(256), \n",
    "    Dropout(dropout_rate), \n",
    "    Dense(256, activation='relu'),  \n",
    "    Dense(1, activation='sigmoid')  \n",
    "])\n",
    "\n",
    "lstm_model.build(input_shape=(None, max_length)) \n",
    "lstm_model.compile(optimizer='adam', loss='binary_crossentropy', metrics=['accuracy'])\n",
    "lstm_model.summary()"
   ]
  },
  {
   "cell_type": "code",
   "execution_count": 24,
   "id": "87d28e79",
   "metadata": {},
   "outputs": [
    {
     "name": "stdout",
     "output_type": "stream",
     "text": [
      "Epoch 1/50\n",
      "\u001b[1m140/140\u001b[0m \u001b[32m━━━━━━━━━━━━━━━━━━━━\u001b[0m\u001b[37m\u001b[0m \u001b[1m80s\u001b[0m 565ms/step - accuracy: 0.5128 - loss: 0.6981 - val_accuracy: 0.5483 - val_loss: 0.6877\n",
      "Epoch 2/50\n",
      "\u001b[1m140/140\u001b[0m \u001b[32m━━━━━━━━━━━━━━━━━━━━\u001b[0m\u001b[37m\u001b[0m \u001b[1m77s\u001b[0m 554ms/step - accuracy: 0.5528 - loss: 0.6804 - val_accuracy: 0.5467 - val_loss: 0.6904\n",
      "Epoch 3/50\n",
      "\u001b[1m140/140\u001b[0m \u001b[32m━━━━━━━━━━━━━━━━━━━━\u001b[0m\u001b[37m\u001b[0m \u001b[1m85s\u001b[0m 609ms/step - accuracy: 0.6186 - loss: 0.6305 - val_accuracy: 0.5400 - val_loss: 0.7579\n",
      "Epoch 4/50\n",
      "\u001b[1m140/140\u001b[0m \u001b[32m━━━━━━━━━━━━━━━━━━━━\u001b[0m\u001b[37m\u001b[0m \u001b[1m91s\u001b[0m 650ms/step - accuracy: 0.6403 - loss: 0.5687 - val_accuracy: 0.4717 - val_loss: 0.7846\n",
      "Epoch 5/50\n",
      "\u001b[1m140/140\u001b[0m \u001b[32m━━━━━━━━━━━━━━━━━━━━\u001b[0m\u001b[37m\u001b[0m \u001b[1m88s\u001b[0m 628ms/step - accuracy: 0.6515 - loss: 0.5181 - val_accuracy: 0.4650 - val_loss: 0.9217\n",
      "Epoch 6/50\n",
      "\u001b[1m140/140\u001b[0m \u001b[32m━━━━━━━━━━━━━━━━━━━━\u001b[0m\u001b[37m\u001b[0m \u001b[1m85s\u001b[0m 608ms/step - accuracy: 0.6695 - loss: 0.4830 - val_accuracy: 0.5183 - val_loss: 1.0361\n",
      "Epoch 7/50\n",
      "\u001b[1m140/140\u001b[0m \u001b[32m━━━━━━━━━━━━━━━━━━━━\u001b[0m\u001b[37m\u001b[0m \u001b[1m87s\u001b[0m 623ms/step - accuracy: 0.6786 - loss: 0.4897 - val_accuracy: 0.5200 - val_loss: 1.1127\n",
      "Epoch 8/50\n",
      "\u001b[1m140/140\u001b[0m \u001b[32m━━━━━━━━━━━━━━━━━━━━\u001b[0m\u001b[37m\u001b[0m \u001b[1m90s\u001b[0m 643ms/step - accuracy: 0.6639 - loss: 0.4938 - val_accuracy: 0.5317 - val_loss: 1.1702\n",
      "Epoch 9/50\n",
      "\u001b[1m140/140\u001b[0m \u001b[32m━━━━━━━━━━━━━━━━━━━━\u001b[0m\u001b[37m\u001b[0m \u001b[1m85s\u001b[0m 608ms/step - accuracy: 0.6650 - loss: 0.4856 - val_accuracy: 0.5200 - val_loss: 0.8884\n",
      "Epoch 10/50\n",
      "\u001b[1m140/140\u001b[0m \u001b[32m━━━━━━━━━━━━━━━━━━━━\u001b[0m\u001b[37m\u001b[0m \u001b[1m103s\u001b[0m 738ms/step - accuracy: 0.6721 - loss: 0.4911 - val_accuracy: 0.5300 - val_loss: 1.3759\n",
      "Epoch 11/50\n",
      "\u001b[1m140/140\u001b[0m \u001b[32m━━━━━━━━━━━━━━━━━━━━\u001b[0m\u001b[37m\u001b[0m \u001b[1m129s\u001b[0m 641ms/step - accuracy: 0.6764 - loss: 0.4905 - val_accuracy: 0.5433 - val_loss: 1.1758\n",
      "Epoch 12/50\n",
      "\u001b[1m140/140\u001b[0m \u001b[32m━━━━━━━━━━━━━━━━━━━━\u001b[0m\u001b[37m\u001b[0m \u001b[1m90s\u001b[0m 644ms/step - accuracy: 0.6466 - loss: 0.4910 - val_accuracy: 0.5300 - val_loss: 1.0272\n",
      "Epoch 13/50\n",
      "\u001b[1m140/140\u001b[0m \u001b[32m━━━━━━━━━━━━━━━━━━━━\u001b[0m\u001b[37m\u001b[0m \u001b[1m88s\u001b[0m 631ms/step - accuracy: 0.6708 - loss: 0.4839 - val_accuracy: 0.5300 - val_loss: 1.2925\n",
      "Epoch 14/50\n",
      "\u001b[1m140/140\u001b[0m \u001b[32m━━━━━━━━━━━━━━━━━━━━\u001b[0m\u001b[37m\u001b[0m \u001b[1m90s\u001b[0m 641ms/step - accuracy: 0.6603 - loss: 0.4960 - val_accuracy: 0.5267 - val_loss: 1.3419\n",
      "Epoch 15/50\n",
      "\u001b[1m140/140\u001b[0m \u001b[32m━━━━━━━━━━━━━━━━━━━━\u001b[0m\u001b[37m\u001b[0m \u001b[1m89s\u001b[0m 633ms/step - accuracy: 0.6748 - loss: 0.4876 - val_accuracy: 0.5283 - val_loss: 1.1093\n",
      "Epoch 16/50\n",
      "\u001b[1m140/140\u001b[0m \u001b[32m━━━━━━━━━━━━━━━━━━━━\u001b[0m\u001b[37m\u001b[0m \u001b[1m90s\u001b[0m 644ms/step - accuracy: 0.6812 - loss: 0.4875 - val_accuracy: 0.5183 - val_loss: 1.3603\n",
      "Epoch 17/50\n",
      "\u001b[1m140/140\u001b[0m \u001b[32m━━━━━━━━━━━━━━━━━━━━\u001b[0m\u001b[37m\u001b[0m \u001b[1m90s\u001b[0m 646ms/step - accuracy: 0.6706 - loss: 0.5468 - val_accuracy: 0.5317 - val_loss: 0.9912\n",
      "Epoch 18/50\n",
      "\u001b[1m140/140\u001b[0m \u001b[32m━━━━━━━━━━━━━━━━━━━━\u001b[0m\u001b[37m\u001b[0m \u001b[1m87s\u001b[0m 623ms/step - accuracy: 0.6821 - loss: 0.4849 - val_accuracy: 0.5333 - val_loss: 1.0609\n",
      "Epoch 19/50\n",
      "\u001b[1m140/140\u001b[0m \u001b[32m━━━━━━━━━━━━━━━━━━━━\u001b[0m\u001b[37m\u001b[0m \u001b[1m88s\u001b[0m 632ms/step - accuracy: 0.6934 - loss: 0.4759 - val_accuracy: 0.5233 - val_loss: 1.2404\n",
      "Epoch 20/50\n",
      "\u001b[1m140/140\u001b[0m \u001b[32m━━━━━━━━━━━━━━━━━━━━\u001b[0m\u001b[37m\u001b[0m \u001b[1m90s\u001b[0m 645ms/step - accuracy: 0.6932 - loss: 0.4760 - val_accuracy: 0.5267 - val_loss: 1.2958\n",
      "Epoch 21/50\n",
      "\u001b[1m140/140\u001b[0m \u001b[32m━━━━━━━━━━━━━━━━━━━━\u001b[0m\u001b[37m\u001b[0m \u001b[1m89s\u001b[0m 634ms/step - accuracy: 0.6744 - loss: 0.4792 - val_accuracy: 0.5300 - val_loss: 1.3303\n",
      "Epoch 22/50\n",
      "\u001b[1m140/140\u001b[0m \u001b[32m━━━━━━━━━━━━━━━━━━━━\u001b[0m\u001b[37m\u001b[0m \u001b[1m88s\u001b[0m 631ms/step - accuracy: 0.6538 - loss: 0.4851 - val_accuracy: 0.5200 - val_loss: 1.6784\n",
      "Epoch 23/50\n",
      "\u001b[1m140/140\u001b[0m \u001b[32m━━━━━━━━━━━━━━━━━━━━\u001b[0m\u001b[37m\u001b[0m \u001b[1m90s\u001b[0m 646ms/step - accuracy: 0.6607 - loss: 0.5009 - val_accuracy: 0.5350 - val_loss: 0.9768\n",
      "Epoch 24/50\n",
      "\u001b[1m140/140\u001b[0m \u001b[32m━━━━━━━━━━━━━━━━━━━━\u001b[0m\u001b[37m\u001b[0m \u001b[1m91s\u001b[0m 649ms/step - accuracy: 0.6721 - loss: 0.4914 - val_accuracy: 0.5333 - val_loss: 1.2797\n",
      "Epoch 25/50\n",
      "\u001b[1m140/140\u001b[0m \u001b[32m━━━━━━━━━━━━━━━━━━━━\u001b[0m\u001b[37m\u001b[0m \u001b[1m92s\u001b[0m 654ms/step - accuracy: 0.6808 - loss: 0.4792 - val_accuracy: 0.5350 - val_loss: 1.2571\n",
      "Epoch 26/50\n",
      "\u001b[1m140/140\u001b[0m \u001b[32m━━━━━━━━━━━━━━━━━━━━\u001b[0m\u001b[37m\u001b[0m \u001b[1m91s\u001b[0m 652ms/step - accuracy: 0.6789 - loss: 0.4879 - val_accuracy: 0.5317 - val_loss: 1.2974\n",
      "Epoch 27/50\n",
      "\u001b[1m140/140\u001b[0m \u001b[32m━━━━━━━━━━━━━━━━━━━━\u001b[0m\u001b[37m\u001b[0m \u001b[1m88s\u001b[0m 628ms/step - accuracy: 0.6759 - loss: 0.4787 - val_accuracy: 0.5333 - val_loss: 1.3669\n",
      "Epoch 28/50\n",
      "\u001b[1m140/140\u001b[0m \u001b[32m━━━━━━━━━━━━━━━━━━━━\u001b[0m\u001b[37m\u001b[0m \u001b[1m91s\u001b[0m 652ms/step - accuracy: 0.6661 - loss: 0.4871 - val_accuracy: 0.5317 - val_loss: 1.3884\n",
      "Epoch 29/50\n",
      "\u001b[1m140/140\u001b[0m \u001b[32m━━━━━━━━━━━━━━━━━━━━\u001b[0m\u001b[37m\u001b[0m \u001b[1m91s\u001b[0m 650ms/step - accuracy: 0.6791 - loss: 0.4794 - val_accuracy: 0.5300 - val_loss: 1.4867\n",
      "Epoch 30/50\n",
      "\u001b[1m140/140\u001b[0m \u001b[32m━━━━━━━━━━━━━━━━━━━━\u001b[0m\u001b[37m\u001b[0m \u001b[1m90s\u001b[0m 646ms/step - accuracy: 0.6555 - loss: 0.4928 - val_accuracy: 0.5217 - val_loss: 1.5360\n",
      "Epoch 31/50\n",
      "\u001b[1m140/140\u001b[0m \u001b[32m━━━━━━━━━━━━━━━━━━━━\u001b[0m\u001b[37m\u001b[0m \u001b[1m90s\u001b[0m 640ms/step - accuracy: 0.6823 - loss: 0.4883 - val_accuracy: 0.5200 - val_loss: 1.5349\n",
      "Epoch 32/50\n",
      "\u001b[1m140/140\u001b[0m \u001b[32m━━━━━━━━━━━━━━━━━━━━\u001b[0m\u001b[37m\u001b[0m \u001b[1m88s\u001b[0m 626ms/step - accuracy: 0.6681 - loss: 0.4864 - val_accuracy: 0.5333 - val_loss: 1.4239\n",
      "Epoch 33/50\n",
      "\u001b[1m140/140\u001b[0m \u001b[32m━━━━━━━━━━━━━━━━━━━━\u001b[0m\u001b[37m\u001b[0m \u001b[1m85s\u001b[0m 610ms/step - accuracy: 0.6550 - loss: 0.5046 - val_accuracy: 0.5383 - val_loss: 1.3549\n",
      "Epoch 34/50\n",
      "\u001b[1m140/140\u001b[0m \u001b[32m━━━━━━━━━━━━━━━━━━━━\u001b[0m\u001b[37m\u001b[0m \u001b[1m87s\u001b[0m 619ms/step - accuracy: 0.6685 - loss: 0.4892 - val_accuracy: 0.5283 - val_loss: 1.4765\n",
      "Epoch 35/50\n",
      "\u001b[1m140/140\u001b[0m \u001b[32m━━━━━━━━━━━━━━━━━━━━\u001b[0m\u001b[37m\u001b[0m \u001b[1m87s\u001b[0m 619ms/step - accuracy: 0.6742 - loss: 0.4801 - val_accuracy: 0.5300 - val_loss: 1.5901\n",
      "Epoch 36/50\n",
      "\u001b[1m140/140\u001b[0m \u001b[32m━━━━━━━━━━━━━━━━━━━━\u001b[0m\u001b[37m\u001b[0m \u001b[1m88s\u001b[0m 630ms/step - accuracy: 0.6674 - loss: 0.4899 - val_accuracy: 0.5317 - val_loss: 1.5925\n",
      "Epoch 37/50\n",
      "\u001b[1m140/140\u001b[0m \u001b[32m━━━━━━━━━━━━━━━━━━━━\u001b[0m\u001b[37m\u001b[0m \u001b[1m89s\u001b[0m 635ms/step - accuracy: 0.6997 - loss: 0.4698 - val_accuracy: 0.5333 - val_loss: 1.6147\n",
      "Epoch 38/50\n",
      "\u001b[1m140/140\u001b[0m \u001b[32m━━━━━━━━━━━━━━━━━━━━\u001b[0m\u001b[37m\u001b[0m \u001b[1m80s\u001b[0m 571ms/step - accuracy: 0.6726 - loss: 0.4798 - val_accuracy: 0.5317 - val_loss: 1.6639\n",
      "Epoch 39/50\n",
      "\u001b[1m140/140\u001b[0m \u001b[32m━━━━━━━━━━━━━━━━━━━━\u001b[0m\u001b[37m\u001b[0m \u001b[1m87s\u001b[0m 624ms/step - accuracy: 0.6704 - loss: 0.4756 - val_accuracy: 0.5333 - val_loss: 1.6742\n",
      "Epoch 40/50\n",
      "\u001b[1m140/140\u001b[0m \u001b[32m━━━━━━━━━━━━━━━━━━━━\u001b[0m\u001b[37m\u001b[0m \u001b[1m89s\u001b[0m 639ms/step - accuracy: 0.6581 - loss: 0.4895 - val_accuracy: 0.5333 - val_loss: 1.6842\n",
      "Epoch 41/50\n",
      "\u001b[1m140/140\u001b[0m \u001b[32m━━━━━━━━━━━━━━━━━━━━\u001b[0m\u001b[37m\u001b[0m \u001b[1m90s\u001b[0m 641ms/step - accuracy: 0.6808 - loss: 0.4725 - val_accuracy: 0.5317 - val_loss: 1.6946\n",
      "Epoch 42/50\n",
      "\u001b[1m140/140\u001b[0m \u001b[32m━━━━━━━━━━━━━━━━━━━━\u001b[0m\u001b[37m\u001b[0m \u001b[1m91s\u001b[0m 654ms/step - accuracy: 0.6764 - loss: 0.4753 - val_accuracy: 0.5317 - val_loss: 1.7024\n",
      "Epoch 43/50\n",
      "\u001b[1m140/140\u001b[0m \u001b[32m━━━━━━━━━━━━━━━━━━━━\u001b[0m\u001b[37m\u001b[0m \u001b[1m90s\u001b[0m 645ms/step - accuracy: 0.6761 - loss: 0.4774 - val_accuracy: 0.5317 - val_loss: 1.7101\n",
      "Epoch 44/50\n",
      "\u001b[1m140/140\u001b[0m \u001b[32m━━━━━━━━━━━━━━━━━━━━\u001b[0m\u001b[37m\u001b[0m \u001b[1m91s\u001b[0m 648ms/step - accuracy: 0.6676 - loss: 0.4806 - val_accuracy: 0.5317 - val_loss: 1.7167\n",
      "Epoch 45/50\n",
      "\u001b[1m140/140\u001b[0m \u001b[32m━━━━━━━━━━━━━━━━━━━━\u001b[0m\u001b[37m\u001b[0m \u001b[1m92s\u001b[0m 656ms/step - accuracy: 0.6641 - loss: 0.4872 - val_accuracy: 0.5317 - val_loss: 1.7243\n",
      "Epoch 46/50\n",
      "\u001b[1m140/140\u001b[0m \u001b[32m━━━━━━━━━━━━━━━━━━━━\u001b[0m\u001b[37m\u001b[0m \u001b[1m87s\u001b[0m 625ms/step - accuracy: 0.6663 - loss: 0.4806 - val_accuracy: 0.5317 - val_loss: 1.7311\n",
      "Epoch 47/50\n",
      "\u001b[1m140/140\u001b[0m \u001b[32m━━━━━━━━━━━━━━━━━━━━\u001b[0m\u001b[37m\u001b[0m \u001b[1m88s\u001b[0m 631ms/step - accuracy: 0.6666 - loss: 0.4749 - val_accuracy: 0.5350 - val_loss: 1.7196\n",
      "Epoch 48/50\n",
      "\u001b[1m140/140\u001b[0m \u001b[32m━━━━━━━━━━━━━━━━━━━━\u001b[0m\u001b[37m\u001b[0m \u001b[1m93s\u001b[0m 663ms/step - accuracy: 0.6740 - loss: 0.4763 - val_accuracy: 0.5333 - val_loss: 1.7372\n",
      "Epoch 49/50\n",
      "\u001b[1m140/140\u001b[0m \u001b[32m━━━━━━━━━━━━━━━━━━━━\u001b[0m\u001b[37m\u001b[0m \u001b[1m88s\u001b[0m 627ms/step - accuracy: 0.6727 - loss: 0.4843 - val_accuracy: 0.5317 - val_loss: 1.7527\n",
      "Epoch 50/50\n"
     ]
    },
    {
     "name": "stdout",
     "output_type": "stream",
     "text": [
      "\u001b[1m140/140\u001b[0m \u001b[32m━━━━━━━━━━━━━━━━━━━━\u001b[0m\u001b[37m\u001b[0m \u001b[1m92s\u001b[0m 657ms/step - accuracy: 0.6727 - loss: 0.4791 - val_accuracy: 0.5317 - val_loss: 1.7595\n"
     ]
    }
   ],
   "source": [
    "history = lstm_model.fit(\n",
    "    x_train_seq, y_train,\n",
    "    epochs=50, \n",
    "    batch_size=10,\n",
    "    validation_data=(x_test_seq, y_test)\n",
    ")"
   ]
  },
  {
   "cell_type": "markdown",
   "id": "3be5aa02",
   "metadata": {},
   "source": [
    "<h3>Q1 (f) ii. Report the train and test accuracies of this model.</h3>"
   ]
  },
  {
   "cell_type": "code",
   "execution_count": 25,
   "id": "40beb850",
   "metadata": {},
   "outputs": [
    {
     "data": {
      "text/html": [
       "<div>\n",
       "<style scoped>\n",
       "    .dataframe tbody tr th:only-of-type {\n",
       "        vertical-align: middle;\n",
       "    }\n",
       "\n",
       "    .dataframe tbody tr th {\n",
       "        vertical-align: top;\n",
       "    }\n",
       "\n",
       "    .dataframe thead th {\n",
       "        text-align: right;\n",
       "    }\n",
       "</style>\n",
       "<table border=\"1\" class=\"dataframe\">\n",
       "  <thead>\n",
       "    <tr style=\"text-align: right;\">\n",
       "      <th></th>\n",
       "      <th>Metric</th>\n",
       "      <th>Training</th>\n",
       "      <th>Validation</th>\n",
       "      <th>Testing</th>\n",
       "    </tr>\n",
       "  </thead>\n",
       "  <tbody>\n",
       "    <tr>\n",
       "      <th>0</th>\n",
       "      <td>Accuracy (%)</td>\n",
       "      <td>67.21</td>\n",
       "      <td>53.17</td>\n",
       "      <td>53.17</td>\n",
       "    </tr>\n",
       "    <tr>\n",
       "      <th>1</th>\n",
       "      <td>Loss</td>\n",
       "      <td>0.4802</td>\n",
       "      <td>1.7595</td>\n",
       "      <td>1.7595</td>\n",
       "    </tr>\n",
       "  </tbody>\n",
       "</table>\n",
       "</div>"
      ],
      "text/plain": [
       "         Metric Training Validation Testing\n",
       "0  Accuracy (%)    67.21      53.17   53.17\n",
       "1          Loss   0.4802     1.7595  1.7595"
      ]
     },
     "metadata": {},
     "output_type": "display_data"
    }
   ],
   "source": [
    "train_acc = history.history['accuracy'][-1] * 100\n",
    "val_acc = history.history['val_accuracy'][-1] * 100\n",
    "train_loss = history.history['loss'][-1]\n",
    "val_loss = history.history['val_loss'][-1]\n",
    "\n",
    "test_loss, test_accuracy = lstm_model.evaluate(x_test_seq, y_test, verbose=0)\n",
    "test_acc = test_accuracy * 100\n",
    "\n",
    "results = pd.DataFrame({\n",
    "    \"Metric\": [\"Accuracy (%)\", \"Loss\"],\n",
    "    \"Training\": [f\"{train_acc:.2f}\", f\"{train_loss:.4f}\"],\n",
    "    \"Validation\": [f\"{val_acc:.2f}\", f\"{val_loss:.4f}\"],\n",
    "    \"Testing\": [f\"{test_acc:.2f}\", f\"{test_loss:.4f}\"]\n",
    "})\n",
    "\n",
    "display(results)"
   ]
  },
  {
   "cell_type": "markdown",
   "id": "3e309b30",
   "metadata": {},
   "source": [
    "<h3>Building models with 90% Review Lenth L for observation purposes:</h3>"
   ]
  },
  {
   "cell_type": "markdown",
   "id": "d4a67b46",
   "metadata": {},
   "source": [
    "<h3>consider 90% of review length L and build the MLP , CONV1D and LSTM Models</h3>"
   ]
  },
  {
   "cell_type": "code",
   "execution_count": 26,
   "id": "36e55f2e",
   "metadata": {},
   "outputs": [
    {
     "name": "stdout",
     "output_type": "stream",
     "text": [
      "Review length L that 70% of the reviews have a length below it: 883\n"
     ]
    }
   ],
   "source": [
    "lengths = [len(sequence) for sequence in sequences]\n",
    "L = int(np.percentile(lengths, 90)) \n",
    "\n",
    "print(f\"Review length L that 70% of the reviews have a length below it: {L}\")"
   ]
  },
  {
   "cell_type": "markdown",
   "id": "e7b7ee80",
   "metadata": {},
   "source": [
    "<h4>90% review Length L : MLP Model</h4>"
   ]
  },
  {
   "cell_type": "code",
   "execution_count": 27,
   "id": "8010c972",
   "metadata": {},
   "outputs": [
    {
     "name": "stdout",
     "output_type": "stream",
     "text": [
      "Expected Flattened Size for observation purposes: 28256\n"
     ]
    },
    {
     "data": {
      "text/html": [
       "<pre style=\"white-space:pre;overflow-x:auto;line-height:normal;font-family:Menlo,'DejaVu Sans Mono',consolas,'Courier New',monospace\"><span style=\"font-weight: bold\">Model: \"sequential_4\"</span>\n",
       "</pre>\n"
      ],
      "text/plain": [
       "\u001b[1mModel: \"sequential_4\"\u001b[0m\n"
      ]
     },
     "metadata": {},
     "output_type": "display_data"
    },
    {
     "data": {
      "text/html": [
       "<pre style=\"white-space:pre;overflow-x:auto;line-height:normal;font-family:Menlo,'DejaVu Sans Mono',consolas,'Courier New',monospace\">┏━━━━━━━━━━━━━━━━━━━━━━━━━━━━━━━━━━━━━━┳━━━━━━━━━━━━━━━━━━━━━━━━━━━━━┳━━━━━━━━━━━━━━━━━┓\n",
       "┃<span style=\"font-weight: bold\"> Layer (type)                         </span>┃<span style=\"font-weight: bold\"> Output Shape                </span>┃<span style=\"font-weight: bold\">         Param # </span>┃\n",
       "┡━━━━━━━━━━━━━━━━━━━━━━━━━━━━━━━━━━━━━━╇━━━━━━━━━━━━━━━━━━━━━━━━━━━━━╇━━━━━━━━━━━━━━━━━┩\n",
       "│ embedding_4 (<span style=\"color: #0087ff; text-decoration-color: #0087ff\">Embedding</span>)              │ (<span style=\"color: #00d7ff; text-decoration-color: #00d7ff\">None</span>, <span style=\"color: #00af00; text-decoration-color: #00af00\">883</span>, <span style=\"color: #00af00; text-decoration-color: #00af00\">32</span>)             │         <span style=\"color: #00af00; text-decoration-color: #00af00\">160,000</span> │\n",
       "├──────────────────────────────────────┼─────────────────────────────┼─────────────────┤\n",
       "│ flatten_3 (<span style=\"color: #0087ff; text-decoration-color: #0087ff\">Flatten</span>)                  │ (<span style=\"color: #00d7ff; text-decoration-color: #00d7ff\">None</span>, <span style=\"color: #00af00; text-decoration-color: #00af00\">28256</span>)               │               <span style=\"color: #00af00; text-decoration-color: #00af00\">0</span> │\n",
       "├──────────────────────────────────────┼─────────────────────────────┼─────────────────┤\n",
       "│ dense_9 (<span style=\"color: #0087ff; text-decoration-color: #0087ff\">Dense</span>)                      │ (<span style=\"color: #00d7ff; text-decoration-color: #00d7ff\">None</span>, <span style=\"color: #00af00; text-decoration-color: #00af00\">50</span>)                  │       <span style=\"color: #00af00; text-decoration-color: #00af00\">1,412,850</span> │\n",
       "├──────────────────────────────────────┼─────────────────────────────┼─────────────────┤\n",
       "│ dropout_4 (<span style=\"color: #0087ff; text-decoration-color: #0087ff\">Dropout</span>)                  │ (<span style=\"color: #00d7ff; text-decoration-color: #00d7ff\">None</span>, <span style=\"color: #00af00; text-decoration-color: #00af00\">50</span>)                  │               <span style=\"color: #00af00; text-decoration-color: #00af00\">0</span> │\n",
       "├──────────────────────────────────────┼─────────────────────────────┼─────────────────┤\n",
       "│ dense_10 (<span style=\"color: #0087ff; text-decoration-color: #0087ff\">Dense</span>)                     │ (<span style=\"color: #00d7ff; text-decoration-color: #00d7ff\">None</span>, <span style=\"color: #00af00; text-decoration-color: #00af00\">50</span>)                  │           <span style=\"color: #00af00; text-decoration-color: #00af00\">2,550</span> │\n",
       "├──────────────────────────────────────┼─────────────────────────────┼─────────────────┤\n",
       "│ dropout_5 (<span style=\"color: #0087ff; text-decoration-color: #0087ff\">Dropout</span>)                  │ (<span style=\"color: #00d7ff; text-decoration-color: #00d7ff\">None</span>, <span style=\"color: #00af00; text-decoration-color: #00af00\">50</span>)                  │               <span style=\"color: #00af00; text-decoration-color: #00af00\">0</span> │\n",
       "├──────────────────────────────────────┼─────────────────────────────┼─────────────────┤\n",
       "│ dense_11 (<span style=\"color: #0087ff; text-decoration-color: #0087ff\">Dense</span>)                     │ (<span style=\"color: #00d7ff; text-decoration-color: #00d7ff\">None</span>, <span style=\"color: #00af00; text-decoration-color: #00af00\">50</span>)                  │           <span style=\"color: #00af00; text-decoration-color: #00af00\">2,550</span> │\n",
       "├──────────────────────────────────────┼─────────────────────────────┼─────────────────┤\n",
       "│ dropout_6 (<span style=\"color: #0087ff; text-decoration-color: #0087ff\">Dropout</span>)                  │ (<span style=\"color: #00d7ff; text-decoration-color: #00d7ff\">None</span>, <span style=\"color: #00af00; text-decoration-color: #00af00\">50</span>)                  │               <span style=\"color: #00af00; text-decoration-color: #00af00\">0</span> │\n",
       "├──────────────────────────────────────┼─────────────────────────────┼─────────────────┤\n",
       "│ dense_12 (<span style=\"color: #0087ff; text-decoration-color: #0087ff\">Dense</span>)                     │ (<span style=\"color: #00d7ff; text-decoration-color: #00d7ff\">None</span>, <span style=\"color: #00af00; text-decoration-color: #00af00\">1</span>)                   │              <span style=\"color: #00af00; text-decoration-color: #00af00\">51</span> │\n",
       "└──────────────────────────────────────┴─────────────────────────────┴─────────────────┘\n",
       "</pre>\n"
      ],
      "text/plain": [
       "┏━━━━━━━━━━━━━━━━━━━━━━━━━━━━━━━━━━━━━━┳━━━━━━━━━━━━━━━━━━━━━━━━━━━━━┳━━━━━━━━━━━━━━━━━┓\n",
       "┃\u001b[1m \u001b[0m\u001b[1mLayer (type)                        \u001b[0m\u001b[1m \u001b[0m┃\u001b[1m \u001b[0m\u001b[1mOutput Shape               \u001b[0m\u001b[1m \u001b[0m┃\u001b[1m \u001b[0m\u001b[1m        Param #\u001b[0m\u001b[1m \u001b[0m┃\n",
       "┡━━━━━━━━━━━━━━━━━━━━━━━━━━━━━━━━━━━━━━╇━━━━━━━━━━━━━━━━━━━━━━━━━━━━━╇━━━━━━━━━━━━━━━━━┩\n",
       "│ embedding_4 (\u001b[38;5;33mEmbedding\u001b[0m)              │ (\u001b[38;5;45mNone\u001b[0m, \u001b[38;5;34m883\u001b[0m, \u001b[38;5;34m32\u001b[0m)             │         \u001b[38;5;34m160,000\u001b[0m │\n",
       "├──────────────────────────────────────┼─────────────────────────────┼─────────────────┤\n",
       "│ flatten_3 (\u001b[38;5;33mFlatten\u001b[0m)                  │ (\u001b[38;5;45mNone\u001b[0m, \u001b[38;5;34m28256\u001b[0m)               │               \u001b[38;5;34m0\u001b[0m │\n",
       "├──────────────────────────────────────┼─────────────────────────────┼─────────────────┤\n",
       "│ dense_9 (\u001b[38;5;33mDense\u001b[0m)                      │ (\u001b[38;5;45mNone\u001b[0m, \u001b[38;5;34m50\u001b[0m)                  │       \u001b[38;5;34m1,412,850\u001b[0m │\n",
       "├──────────────────────────────────────┼─────────────────────────────┼─────────────────┤\n",
       "│ dropout_4 (\u001b[38;5;33mDropout\u001b[0m)                  │ (\u001b[38;5;45mNone\u001b[0m, \u001b[38;5;34m50\u001b[0m)                  │               \u001b[38;5;34m0\u001b[0m │\n",
       "├──────────────────────────────────────┼─────────────────────────────┼─────────────────┤\n",
       "│ dense_10 (\u001b[38;5;33mDense\u001b[0m)                     │ (\u001b[38;5;45mNone\u001b[0m, \u001b[38;5;34m50\u001b[0m)                  │           \u001b[38;5;34m2,550\u001b[0m │\n",
       "├──────────────────────────────────────┼─────────────────────────────┼─────────────────┤\n",
       "│ dropout_5 (\u001b[38;5;33mDropout\u001b[0m)                  │ (\u001b[38;5;45mNone\u001b[0m, \u001b[38;5;34m50\u001b[0m)                  │               \u001b[38;5;34m0\u001b[0m │\n",
       "├──────────────────────────────────────┼─────────────────────────────┼─────────────────┤\n",
       "│ dense_11 (\u001b[38;5;33mDense\u001b[0m)                     │ (\u001b[38;5;45mNone\u001b[0m, \u001b[38;5;34m50\u001b[0m)                  │           \u001b[38;5;34m2,550\u001b[0m │\n",
       "├──────────────────────────────────────┼─────────────────────────────┼─────────────────┤\n",
       "│ dropout_6 (\u001b[38;5;33mDropout\u001b[0m)                  │ (\u001b[38;5;45mNone\u001b[0m, \u001b[38;5;34m50\u001b[0m)                  │               \u001b[38;5;34m0\u001b[0m │\n",
       "├──────────────────────────────────────┼─────────────────────────────┼─────────────────┤\n",
       "│ dense_12 (\u001b[38;5;33mDense\u001b[0m)                     │ (\u001b[38;5;45mNone\u001b[0m, \u001b[38;5;34m1\u001b[0m)                   │              \u001b[38;5;34m51\u001b[0m │\n",
       "└──────────────────────────────────────┴─────────────────────────────┴─────────────────┘\n"
      ]
     },
     "metadata": {},
     "output_type": "display_data"
    },
    {
     "data": {
      "text/html": [
       "<pre style=\"white-space:pre;overflow-x:auto;line-height:normal;font-family:Menlo,'DejaVu Sans Mono',consolas,'Courier New',monospace\"><span style=\"font-weight: bold\"> Total params: </span><span style=\"color: #00af00; text-decoration-color: #00af00\">1,578,001</span> (6.02 MB)\n",
       "</pre>\n"
      ],
      "text/plain": [
       "\u001b[1m Total params: \u001b[0m\u001b[38;5;34m1,578,001\u001b[0m (6.02 MB)\n"
      ]
     },
     "metadata": {},
     "output_type": "display_data"
    },
    {
     "data": {
      "text/html": [
       "<pre style=\"white-space:pre;overflow-x:auto;line-height:normal;font-family:Menlo,'DejaVu Sans Mono',consolas,'Courier New',monospace\"><span style=\"font-weight: bold\"> Trainable params: </span><span style=\"color: #00af00; text-decoration-color: #00af00\">1,578,001</span> (6.02 MB)\n",
       "</pre>\n"
      ],
      "text/plain": [
       "\u001b[1m Trainable params: \u001b[0m\u001b[38;5;34m1,578,001\u001b[0m (6.02 MB)\n"
      ]
     },
     "metadata": {},
     "output_type": "display_data"
    },
    {
     "data": {
      "text/html": [
       "<pre style=\"white-space:pre;overflow-x:auto;line-height:normal;font-family:Menlo,'DejaVu Sans Mono',consolas,'Courier New',monospace\"><span style=\"font-weight: bold\"> Non-trainable params: </span><span style=\"color: #00af00; text-decoration-color: #00af00\">0</span> (0.00 B)\n",
       "</pre>\n"
      ],
      "text/plain": [
       "\u001b[1m Non-trainable params: \u001b[0m\u001b[38;5;34m0\u001b[0m (0.00 B)\n"
      ]
     },
     "metadata": {},
     "output_type": "display_data"
    },
    {
     "name": "stdout",
     "output_type": "stream",
     "text": [
      "Epoch 1/2\n",
      "\u001b[1m140/140\u001b[0m \u001b[32m━━━━━━━━━━━━━━━━━━━━\u001b[0m\u001b[37m\u001b[0m \u001b[1m4s\u001b[0m 22ms/step - accuracy: 0.4751 - loss: 0.7054 - val_accuracy: 0.5000 - val_loss: 0.6947\n",
      "Epoch 2/2\n",
      "\u001b[1m140/140\u001b[0m \u001b[32m━━━━━━━━━━━━━━━━━━━━\u001b[0m\u001b[37m\u001b[0m \u001b[1m6s\u001b[0m 22ms/step - accuracy: 0.4889 - loss: 0.7005 - val_accuracy: 0.4850 - val_loss: 0.6931\n"
     ]
    }
   ],
   "source": [
    "#MLP with 90% review length\n",
    "#defining the parameters\n",
    "vocab_size = 5000\n",
    "embedding_dim = 32\n",
    "max_length = 883 \n",
    "x_train_seq_padded = pad_sequences(x_train_seq, maxlen=max_length, truncating='post', padding='post')\n",
    "x_test_seq_padded = pad_sequences(x_test_seq, maxlen=max_length, truncating='post', padding='post')\n",
    "\n",
    "expected_flattened_size = max_length * embedding_dim\n",
    "print(f\"Expected Flattened Size for observation purposes: {expected_flattened_size}\")  \n",
    "\n",
    "mlp_model_90 = Sequential([\n",
    "    Embedding(input_dim=vocab_size, output_dim=embedding_dim, input_length=max_length),\n",
    "    Flatten(),\n",
    "    Dense(50, activation='relu'),\n",
    "    Dropout(0.2),\n",
    "    Dense(50, activation='relu'),\n",
    "    Dropout(0.5),\n",
    "    Dense(50, activation='relu'),\n",
    "    Dropout(0.5),\n",
    "    Dense(1, activation='sigmoid')\n",
    "])\n",
    "mlp_model_90.build(input_shape=(None, max_length)) \n",
    "\n",
    "mlp_model_90.compile(optimizer='adam', loss='binary_crossentropy', metrics=['accuracy'])\n",
    "mlp_model_90.summary()\n",
    "\n",
    "\n",
    "history = mlp_model_90.fit(x_train_seq_padded, y_train, epochs=2, batch_size=10, validation_data=(x_test_seq_padded, y_test))\n"
   ]
  },
  {
   "cell_type": "markdown",
   "id": "617152e6",
   "metadata": {},
   "source": [
    "<h4>90% review Length L : CONV1D Model</h4>"
   ]
  },
  {
   "cell_type": "code",
   "execution_count": 28,
   "id": "b3866c61",
   "metadata": {},
   "outputs": [
    {
     "name": "stdout",
     "output_type": "stream",
     "text": [
      "WARNING:tensorflow:From C:\\Users\\Sharan Murli\\AppData\\Local\\Temp\\ipykernel_26248\\4249113993.py:6: The name tf.reset_default_graph is deprecated. Please use tf.compat.v1.reset_default_graph instead.\n",
      "\n"
     ]
    },
    {
     "data": {
      "text/html": [
       "<pre style=\"white-space:pre;overflow-x:auto;line-height:normal;font-family:Menlo,'DejaVu Sans Mono',consolas,'Courier New',monospace\"><span style=\"font-weight: bold\">Model: \"sequential_5\"</span>\n",
       "</pre>\n"
      ],
      "text/plain": [
       "\u001b[1mModel: \"sequential_5\"\u001b[0m\n"
      ]
     },
     "metadata": {},
     "output_type": "display_data"
    },
    {
     "data": {
      "text/html": [
       "<pre style=\"white-space:pre;overflow-x:auto;line-height:normal;font-family:Menlo,'DejaVu Sans Mono',consolas,'Courier New',monospace\">┏━━━━━━━━━━━━━━━━━━━━━━━━━━━━━━━━━━━━━━┳━━━━━━━━━━━━━━━━━━━━━━━━━━━━━┳━━━━━━━━━━━━━━━━━┓\n",
       "┃<span style=\"font-weight: bold\"> Layer (type)                         </span>┃<span style=\"font-weight: bold\"> Output Shape                </span>┃<span style=\"font-weight: bold\">         Param # </span>┃\n",
       "┡━━━━━━━━━━━━━━━━━━━━━━━━━━━━━━━━━━━━━━╇━━━━━━━━━━━━━━━━━━━━━━━━━━━━━╇━━━━━━━━━━━━━━━━━┩\n",
       "│ embedding_5 (<span style=\"color: #0087ff; text-decoration-color: #0087ff\">Embedding</span>)              │ (<span style=\"color: #00d7ff; text-decoration-color: #00d7ff\">None</span>, <span style=\"color: #00af00; text-decoration-color: #00af00\">883</span>, <span style=\"color: #00af00; text-decoration-color: #00af00\">32</span>)             │         <span style=\"color: #00af00; text-decoration-color: #00af00\">160,000</span> │\n",
       "├──────────────────────────────────────┼─────────────────────────────┼─────────────────┤\n",
       "│ conv1d_1 (<span style=\"color: #0087ff; text-decoration-color: #0087ff\">Conv1D</span>)                    │ (<span style=\"color: #00d7ff; text-decoration-color: #00d7ff\">None</span>, <span style=\"color: #00af00; text-decoration-color: #00af00\">881</span>, <span style=\"color: #00af00; text-decoration-color: #00af00\">32</span>)             │           <span style=\"color: #00af00; text-decoration-color: #00af00\">3,104</span> │\n",
       "├──────────────────────────────────────┼─────────────────────────────┼─────────────────┤\n",
       "│ max_pooling1d_1 (<span style=\"color: #0087ff; text-decoration-color: #0087ff\">MaxPooling1D</span>)       │ (<span style=\"color: #00d7ff; text-decoration-color: #00d7ff\">None</span>, <span style=\"color: #00af00; text-decoration-color: #00af00\">440</span>, <span style=\"color: #00af00; text-decoration-color: #00af00\">32</span>)             │               <span style=\"color: #00af00; text-decoration-color: #00af00\">0</span> │\n",
       "├──────────────────────────────────────┼─────────────────────────────┼─────────────────┤\n",
       "│ flatten_4 (<span style=\"color: #0087ff; text-decoration-color: #0087ff\">Flatten</span>)                  │ (<span style=\"color: #00d7ff; text-decoration-color: #00d7ff\">None</span>, <span style=\"color: #00af00; text-decoration-color: #00af00\">14080</span>)               │               <span style=\"color: #00af00; text-decoration-color: #00af00\">0</span> │\n",
       "├──────────────────────────────────────┼─────────────────────────────┼─────────────────┤\n",
       "│ dense_13 (<span style=\"color: #0087ff; text-decoration-color: #0087ff\">Dense</span>)                     │ (<span style=\"color: #00d7ff; text-decoration-color: #00d7ff\">None</span>, <span style=\"color: #00af00; text-decoration-color: #00af00\">1</span>)                   │          <span style=\"color: #00af00; text-decoration-color: #00af00\">14,081</span> │\n",
       "└──────────────────────────────────────┴─────────────────────────────┴─────────────────┘\n",
       "</pre>\n"
      ],
      "text/plain": [
       "┏━━━━━━━━━━━━━━━━━━━━━━━━━━━━━━━━━━━━━━┳━━━━━━━━━━━━━━━━━━━━━━━━━━━━━┳━━━━━━━━━━━━━━━━━┓\n",
       "┃\u001b[1m \u001b[0m\u001b[1mLayer (type)                        \u001b[0m\u001b[1m \u001b[0m┃\u001b[1m \u001b[0m\u001b[1mOutput Shape               \u001b[0m\u001b[1m \u001b[0m┃\u001b[1m \u001b[0m\u001b[1m        Param #\u001b[0m\u001b[1m \u001b[0m┃\n",
       "┡━━━━━━━━━━━━━━━━━━━━━━━━━━━━━━━━━━━━━━╇━━━━━━━━━━━━━━━━━━━━━━━━━━━━━╇━━━━━━━━━━━━━━━━━┩\n",
       "│ embedding_5 (\u001b[38;5;33mEmbedding\u001b[0m)              │ (\u001b[38;5;45mNone\u001b[0m, \u001b[38;5;34m883\u001b[0m, \u001b[38;5;34m32\u001b[0m)             │         \u001b[38;5;34m160,000\u001b[0m │\n",
       "├──────────────────────────────────────┼─────────────────────────────┼─────────────────┤\n",
       "│ conv1d_1 (\u001b[38;5;33mConv1D\u001b[0m)                    │ (\u001b[38;5;45mNone\u001b[0m, \u001b[38;5;34m881\u001b[0m, \u001b[38;5;34m32\u001b[0m)             │           \u001b[38;5;34m3,104\u001b[0m │\n",
       "├──────────────────────────────────────┼─────────────────────────────┼─────────────────┤\n",
       "│ max_pooling1d_1 (\u001b[38;5;33mMaxPooling1D\u001b[0m)       │ (\u001b[38;5;45mNone\u001b[0m, \u001b[38;5;34m440\u001b[0m, \u001b[38;5;34m32\u001b[0m)             │               \u001b[38;5;34m0\u001b[0m │\n",
       "├──────────────────────────────────────┼─────────────────────────────┼─────────────────┤\n",
       "│ flatten_4 (\u001b[38;5;33mFlatten\u001b[0m)                  │ (\u001b[38;5;45mNone\u001b[0m, \u001b[38;5;34m14080\u001b[0m)               │               \u001b[38;5;34m0\u001b[0m │\n",
       "├──────────────────────────────────────┼─────────────────────────────┼─────────────────┤\n",
       "│ dense_13 (\u001b[38;5;33mDense\u001b[0m)                     │ (\u001b[38;5;45mNone\u001b[0m, \u001b[38;5;34m1\u001b[0m)                   │          \u001b[38;5;34m14,081\u001b[0m │\n",
       "└──────────────────────────────────────┴─────────────────────────────┴─────────────────┘\n"
      ]
     },
     "metadata": {},
     "output_type": "display_data"
    },
    {
     "data": {
      "text/html": [
       "<pre style=\"white-space:pre;overflow-x:auto;line-height:normal;font-family:Menlo,'DejaVu Sans Mono',consolas,'Courier New',monospace\"><span style=\"font-weight: bold\"> Total params: </span><span style=\"color: #00af00; text-decoration-color: #00af00\">177,185</span> (692.13 KB)\n",
       "</pre>\n"
      ],
      "text/plain": [
       "\u001b[1m Total params: \u001b[0m\u001b[38;5;34m177,185\u001b[0m (692.13 KB)\n"
      ]
     },
     "metadata": {},
     "output_type": "display_data"
    },
    {
     "data": {
      "text/html": [
       "<pre style=\"white-space:pre;overflow-x:auto;line-height:normal;font-family:Menlo,'DejaVu Sans Mono',consolas,'Courier New',monospace\"><span style=\"font-weight: bold\"> Trainable params: </span><span style=\"color: #00af00; text-decoration-color: #00af00\">177,185</span> (692.13 KB)\n",
       "</pre>\n"
      ],
      "text/plain": [
       "\u001b[1m Trainable params: \u001b[0m\u001b[38;5;34m177,185\u001b[0m (692.13 KB)\n"
      ]
     },
     "metadata": {},
     "output_type": "display_data"
    },
    {
     "data": {
      "text/html": [
       "<pre style=\"white-space:pre;overflow-x:auto;line-height:normal;font-family:Menlo,'DejaVu Sans Mono',consolas,'Courier New',monospace\"><span style=\"font-weight: bold\"> Non-trainable params: </span><span style=\"color: #00af00; text-decoration-color: #00af00\">0</span> (0.00 B)\n",
       "</pre>\n"
      ],
      "text/plain": [
       "\u001b[1m Non-trainable params: \u001b[0m\u001b[38;5;34m0\u001b[0m (0.00 B)\n"
      ]
     },
     "metadata": {},
     "output_type": "display_data"
    }
   ],
   "source": [
    "#CONV1D Model with 90% review length\n",
    "vocab_size = 5000 \n",
    "embedding_dim = 32\n",
    "max_length = 883  \n",
    "\n",
    "tf.compat.v1.reset_default_graph()\n",
    "\n",
    "conv_model_90 = Sequential([\n",
    "    Embedding(input_dim=vocab_size, output_dim=embedding_dim, input_length=max_length),\n",
    "    Conv1D(filters=32, kernel_size=3, activation='relu'),\n",
    "    MaxPooling1D(pool_size=2),\n",
    "    Flatten(),\n",
    "    Dense(1, activation='sigmoid')\n",
    "])\n",
    "conv_model_90.build(input_shape=(None, max_length))\n",
    "conv_model_90.summary()\n",
    "conv_model_90.compile(optimizer='adam', loss='binary_crossentropy', metrics=['accuracy'])\n"
   ]
  },
  {
   "cell_type": "code",
   "execution_count": 29,
   "id": "6af82d45",
   "metadata": {},
   "outputs": [
    {
     "name": "stdout",
     "output_type": "stream",
     "text": [
      "Epoch 1/2\n",
      "\u001b[1m140/140\u001b[0m \u001b[32m━━━━━━━━━━━━━━━━━━━━\u001b[0m\u001b[37m\u001b[0m \u001b[1m3s\u001b[0m 14ms/step - accuracy: 0.5033 - loss: 0.6937 - val_accuracy: 0.5517 - val_loss: 0.6874\n",
      "Epoch 2/2\n",
      "\u001b[1m140/140\u001b[0m \u001b[32m━━━━━━━━━━━━━━━━━━━━\u001b[0m\u001b[37m\u001b[0m \u001b[1m2s\u001b[0m 13ms/step - accuracy: 0.7208 - loss: 0.6159 - val_accuracy: 0.5950 - val_loss: 0.6458\n"
     ]
    }
   ],
   "source": [
    "history = conv_model_90.fit(\n",
    "    x_train_seq_padded,\n",
    "    y_train,\n",
    "    epochs=2,\n",
    "    batch_size=10,\n",
    "    validation_data=(x_test_seq_padded, y_test)\n",
    ")"
   ]
  },
  {
   "cell_type": "markdown",
   "id": "009dc949",
   "metadata": {},
   "source": [
    "<h4>90% review Length L : LSTM Model</h4>"
   ]
  },
  {
   "cell_type": "code",
   "execution_count": 30,
   "id": "775d5484",
   "metadata": {},
   "outputs": [
    {
     "data": {
      "text/html": [
       "<pre style=\"white-space:pre;overflow-x:auto;line-height:normal;font-family:Menlo,'DejaVu Sans Mono',consolas,'Courier New',monospace\"><span style=\"font-weight: bold\">Model: \"sequential_6\"</span>\n",
       "</pre>\n"
      ],
      "text/plain": [
       "\u001b[1mModel: \"sequential_6\"\u001b[0m\n"
      ]
     },
     "metadata": {},
     "output_type": "display_data"
    },
    {
     "data": {
      "text/html": [
       "<pre style=\"white-space:pre;overflow-x:auto;line-height:normal;font-family:Menlo,'DejaVu Sans Mono',consolas,'Courier New',monospace\">┏━━━━━━━━━━━━━━━━━━━━━━━━━━━━━━━━━━━━━━┳━━━━━━━━━━━━━━━━━━━━━━━━━━━━━┳━━━━━━━━━━━━━━━━━┓\n",
       "┃<span style=\"font-weight: bold\"> Layer (type)                         </span>┃<span style=\"font-weight: bold\"> Output Shape                </span>┃<span style=\"font-weight: bold\">         Param # </span>┃\n",
       "┡━━━━━━━━━━━━━━━━━━━━━━━━━━━━━━━━━━━━━━╇━━━━━━━━━━━━━━━━━━━━━━━━━━━━━╇━━━━━━━━━━━━━━━━━┩\n",
       "│ embedding_6 (<span style=\"color: #0087ff; text-decoration-color: #0087ff\">Embedding</span>)              │ (<span style=\"color: #00d7ff; text-decoration-color: #00d7ff\">None</span>, <span style=\"color: #00af00; text-decoration-color: #00af00\">883</span>, <span style=\"color: #00af00; text-decoration-color: #00af00\">32</span>)             │         <span style=\"color: #00af00; text-decoration-color: #00af00\">160,000</span> │\n",
       "├──────────────────────────────────────┼─────────────────────────────┼─────────────────┤\n",
       "│ lstm_1 (<span style=\"color: #0087ff; text-decoration-color: #0087ff\">LSTM</span>)                        │ (<span style=\"color: #00d7ff; text-decoration-color: #00d7ff\">None</span>, <span style=\"color: #00af00; text-decoration-color: #00af00\">256</span>)                 │         <span style=\"color: #00af00; text-decoration-color: #00af00\">295,936</span> │\n",
       "├──────────────────────────────────────┼─────────────────────────────┼─────────────────┤\n",
       "│ dropout_7 (<span style=\"color: #0087ff; text-decoration-color: #0087ff\">Dropout</span>)                  │ (<span style=\"color: #00d7ff; text-decoration-color: #00d7ff\">None</span>, <span style=\"color: #00af00; text-decoration-color: #00af00\">256</span>)                 │               <span style=\"color: #00af00; text-decoration-color: #00af00\">0</span> │\n",
       "├──────────────────────────────────────┼─────────────────────────────┼─────────────────┤\n",
       "│ dense_14 (<span style=\"color: #0087ff; text-decoration-color: #0087ff\">Dense</span>)                     │ (<span style=\"color: #00d7ff; text-decoration-color: #00d7ff\">None</span>, <span style=\"color: #00af00; text-decoration-color: #00af00\">256</span>)                 │          <span style=\"color: #00af00; text-decoration-color: #00af00\">65,792</span> │\n",
       "├──────────────────────────────────────┼─────────────────────────────┼─────────────────┤\n",
       "│ dense_15 (<span style=\"color: #0087ff; text-decoration-color: #0087ff\">Dense</span>)                     │ (<span style=\"color: #00d7ff; text-decoration-color: #00d7ff\">None</span>, <span style=\"color: #00af00; text-decoration-color: #00af00\">1</span>)                   │             <span style=\"color: #00af00; text-decoration-color: #00af00\">257</span> │\n",
       "└──────────────────────────────────────┴─────────────────────────────┴─────────────────┘\n",
       "</pre>\n"
      ],
      "text/plain": [
       "┏━━━━━━━━━━━━━━━━━━━━━━━━━━━━━━━━━━━━━━┳━━━━━━━━━━━━━━━━━━━━━━━━━━━━━┳━━━━━━━━━━━━━━━━━┓\n",
       "┃\u001b[1m \u001b[0m\u001b[1mLayer (type)                        \u001b[0m\u001b[1m \u001b[0m┃\u001b[1m \u001b[0m\u001b[1mOutput Shape               \u001b[0m\u001b[1m \u001b[0m┃\u001b[1m \u001b[0m\u001b[1m        Param #\u001b[0m\u001b[1m \u001b[0m┃\n",
       "┡━━━━━━━━━━━━━━━━━━━━━━━━━━━━━━━━━━━━━━╇━━━━━━━━━━━━━━━━━━━━━━━━━━━━━╇━━━━━━━━━━━━━━━━━┩\n",
       "│ embedding_6 (\u001b[38;5;33mEmbedding\u001b[0m)              │ (\u001b[38;5;45mNone\u001b[0m, \u001b[38;5;34m883\u001b[0m, \u001b[38;5;34m32\u001b[0m)             │         \u001b[38;5;34m160,000\u001b[0m │\n",
       "├──────────────────────────────────────┼─────────────────────────────┼─────────────────┤\n",
       "│ lstm_1 (\u001b[38;5;33mLSTM\u001b[0m)                        │ (\u001b[38;5;45mNone\u001b[0m, \u001b[38;5;34m256\u001b[0m)                 │         \u001b[38;5;34m295,936\u001b[0m │\n",
       "├──────────────────────────────────────┼─────────────────────────────┼─────────────────┤\n",
       "│ dropout_7 (\u001b[38;5;33mDropout\u001b[0m)                  │ (\u001b[38;5;45mNone\u001b[0m, \u001b[38;5;34m256\u001b[0m)                 │               \u001b[38;5;34m0\u001b[0m │\n",
       "├──────────────────────────────────────┼─────────────────────────────┼─────────────────┤\n",
       "│ dense_14 (\u001b[38;5;33mDense\u001b[0m)                     │ (\u001b[38;5;45mNone\u001b[0m, \u001b[38;5;34m256\u001b[0m)                 │          \u001b[38;5;34m65,792\u001b[0m │\n",
       "├──────────────────────────────────────┼─────────────────────────────┼─────────────────┤\n",
       "│ dense_15 (\u001b[38;5;33mDense\u001b[0m)                     │ (\u001b[38;5;45mNone\u001b[0m, \u001b[38;5;34m1\u001b[0m)                   │             \u001b[38;5;34m257\u001b[0m │\n",
       "└──────────────────────────────────────┴─────────────────────────────┴─────────────────┘\n"
      ]
     },
     "metadata": {},
     "output_type": "display_data"
    },
    {
     "data": {
      "text/html": [
       "<pre style=\"white-space:pre;overflow-x:auto;line-height:normal;font-family:Menlo,'DejaVu Sans Mono',consolas,'Courier New',monospace\"><span style=\"font-weight: bold\"> Total params: </span><span style=\"color: #00af00; text-decoration-color: #00af00\">521,985</span> (1.99 MB)\n",
       "</pre>\n"
      ],
      "text/plain": [
       "\u001b[1m Total params: \u001b[0m\u001b[38;5;34m521,985\u001b[0m (1.99 MB)\n"
      ]
     },
     "metadata": {},
     "output_type": "display_data"
    },
    {
     "data": {
      "text/html": [
       "<pre style=\"white-space:pre;overflow-x:auto;line-height:normal;font-family:Menlo,'DejaVu Sans Mono',consolas,'Courier New',monospace\"><span style=\"font-weight: bold\"> Trainable params: </span><span style=\"color: #00af00; text-decoration-color: #00af00\">521,985</span> (1.99 MB)\n",
       "</pre>\n"
      ],
      "text/plain": [
       "\u001b[1m Trainable params: \u001b[0m\u001b[38;5;34m521,985\u001b[0m (1.99 MB)\n"
      ]
     },
     "metadata": {},
     "output_type": "display_data"
    },
    {
     "data": {
      "text/html": [
       "<pre style=\"white-space:pre;overflow-x:auto;line-height:normal;font-family:Menlo,'DejaVu Sans Mono',consolas,'Courier New',monospace\"><span style=\"font-weight: bold\"> Non-trainable params: </span><span style=\"color: #00af00; text-decoration-color: #00af00\">0</span> (0.00 B)\n",
       "</pre>\n"
      ],
      "text/plain": [
       "\u001b[1m Non-trainable params: \u001b[0m\u001b[38;5;34m0\u001b[0m (0.00 B)\n"
      ]
     },
     "metadata": {},
     "output_type": "display_data"
    }
   ],
   "source": [
    "#LSTM with 90% review length\n",
    "vocab_size = 5000  \n",
    "embedding_dim = 32  \n",
    "max_length = 883 \n",
    "dropout_rate = 0.2  \n",
    "\n",
    "lstm_model_90 = Sequential([\n",
    "    Embedding(vocab_size, embedding_dim, input_length=max_length),\n",
    "    LSTM(256), \n",
    "    Dropout(dropout_rate), \n",
    "    Dense(256, activation='relu'),  \n",
    "    Dense(1, activation='sigmoid')  \n",
    "])\n",
    "\n",
    "lstm_model_90.build(input_shape=(None, max_length)) \n",
    "lstm_model_90.compile(optimizer='adam', loss='binary_crossentropy', metrics=['accuracy'])\n",
    "lstm_model_90.summary()"
   ]
  },
  {
   "cell_type": "code",
   "execution_count": 31,
   "id": "334517a9",
   "metadata": {},
   "outputs": [
    {
     "name": "stdout",
     "output_type": "stream",
     "text": [
      "Epoch 1/10\n",
      "\u001b[1m140/140\u001b[0m \u001b[32m━━━━━━━━━━━━━━━━━━━━\u001b[0m\u001b[37m\u001b[0m \u001b[1m123s\u001b[0m 873ms/step - accuracy: 0.5151 - loss: 0.6945 - val_accuracy: 0.5000 - val_loss: 0.6938\n",
      "Epoch 2/10\n",
      "\u001b[1m140/140\u001b[0m \u001b[32m━━━━━━━━━━━━━━━━━━━━\u001b[0m\u001b[37m\u001b[0m \u001b[1m126s\u001b[0m 900ms/step - accuracy: 0.4931 - loss: 0.6940 - val_accuracy: 0.5000 - val_loss: 0.6932\n",
      "Epoch 3/10\n",
      "\u001b[1m140/140\u001b[0m \u001b[32m━━━━━━━━━━━━━━━━━━━━\u001b[0m\u001b[37m\u001b[0m \u001b[1m126s\u001b[0m 901ms/step - accuracy: 0.5010 - loss: 0.6935 - val_accuracy: 0.5000 - val_loss: 0.6932\n",
      "Epoch 4/10\n",
      "\u001b[1m140/140\u001b[0m \u001b[32m━━━━━━━━━━━━━━━━━━━━\u001b[0m\u001b[37m\u001b[0m \u001b[1m124s\u001b[0m 886ms/step - accuracy: 0.4919 - loss: 0.6936 - val_accuracy: 0.5000 - val_loss: 0.6932\n",
      "Epoch 5/10\n",
      "\u001b[1m140/140\u001b[0m \u001b[32m━━━━━━━━━━━━━━━━━━━━\u001b[0m\u001b[37m\u001b[0m \u001b[1m126s\u001b[0m 901ms/step - accuracy: 0.4893 - loss: 0.6938 - val_accuracy: 0.5000 - val_loss: 0.6933\n",
      "Epoch 6/10\n",
      "\u001b[1m140/140\u001b[0m \u001b[32m━━━━━━━━━━━━━━━━━━━━\u001b[0m\u001b[37m\u001b[0m \u001b[1m123s\u001b[0m 882ms/step - accuracy: 0.5190 - loss: 0.6938 - val_accuracy: 0.5000 - val_loss: 0.6933\n",
      "Epoch 7/10\n",
      "\u001b[1m140/140\u001b[0m \u001b[32m━━━━━━━━━━━━━━━━━━━━\u001b[0m\u001b[37m\u001b[0m \u001b[1m122s\u001b[0m 871ms/step - accuracy: 0.4837 - loss: 0.6940 - val_accuracy: 0.5000 - val_loss: 0.6931\n",
      "Epoch 8/10\n",
      "\u001b[1m140/140\u001b[0m \u001b[32m━━━━━━━━━━━━━━━━━━━━\u001b[0m\u001b[37m\u001b[0m \u001b[1m121s\u001b[0m 867ms/step - accuracy: 0.4998 - loss: 0.6933 - val_accuracy: 0.5000 - val_loss: 0.6931\n",
      "Epoch 9/10\n",
      "\u001b[1m140/140\u001b[0m \u001b[32m━━━━━━━━━━━━━━━━━━━━\u001b[0m\u001b[37m\u001b[0m \u001b[1m125s\u001b[0m 893ms/step - accuracy: 0.5121 - loss: 0.6932 - val_accuracy: 0.5000 - val_loss: 0.6943\n",
      "Epoch 10/10\n",
      "\u001b[1m140/140\u001b[0m \u001b[32m━━━━━━━━━━━━━━━━━━━━\u001b[0m\u001b[37m\u001b[0m \u001b[1m124s\u001b[0m 883ms/step - accuracy: 0.4819 - loss: 0.6942 - val_accuracy: 0.5000 - val_loss: 0.6933\n"
     ]
    }
   ],
   "source": [
    "history = lstm_model_90.fit(\n",
    "    x_train_seq_padded, y_train,\n",
    "    epochs=10, \n",
    "    batch_size=10,\n",
    "    validation_data=(x_test_seq_padded, y_test)\n",
    ")"
   ]
  },
  {
   "cell_type": "markdown",
   "id": "bceb0238",
   "metadata": {},
   "source": [
    "<h3>Statistics for All the Models in a table</h3>"
   ]
  },
  {
   "cell_type": "code",
   "execution_count": 34,
   "id": "44f426a5",
   "metadata": {},
   "outputs": [
    {
     "name": "stdout",
     "output_type": "stream",
     "text": [
      "Model Type Data Split  Accuracy (%)   Loss\n",
      "       MLP   Training         62.93 0.6088\n",
      "       MLP Validation         55.67 0.6462\n",
      "       MLP    Testing         55.67 0.6878\n",
      "    Conv1D   Training         70.93 0.6878\n",
      "    Conv1D Validation         61.83 0.6574\n",
      "    Conv1D    Testing         61.83 0.6574\n",
      "      LSTM   Training         53.17 0.4802\n",
      "      LSTM Validation         67.21 1.7595\n",
      "      LSTM    Testing         67.21 1.7595\n"
     ]
    }
   ],
   "source": [
    "data_stats = {\n",
    "    \"Model Type\": [\"MLP\", \"MLP\", \"MLP\", \"Conv1D\", \"Conv1D\", \"Conv1D\" , \"LSTM\" , \"LSTM\" , \"LSTM\"],\n",
    "    \"Data Split\": [\"Training\", \"Validation\", \"Testing\"] * 3,\n",
    "    \"Accuracy (%)\": [62.93, 55.67, 55.67, 70.93, 61.83, 61.83 , 53.17 , 67.21 , 67.21],\n",
    "    \"Loss\": [0.6088, 0.6462, 0.6878, 0.6878, 0.6574, 0.6574,0.4802, 1.7595 , 1.7595]\n",
    "}\n",
    "df = pd.DataFrame(data_stats)\n",
    "print(df.to_string(index=False))"
   ]
  },
  {
   "cell_type": "code",
   "execution_count": 35,
   "id": "456c1b0b",
   "metadata": {},
   "outputs": [],
   "source": [
    "!pip freeze > requirements.txt"
   ]
  },
  {
   "cell_type": "markdown",
   "id": "bed357fe",
   "metadata": {},
   "source": [
    "<h3>References:<h3/>    \n",
    "<hr>\n",
    "<p><a>https://keras.io/api/models/model/</a></p>\n",
    "<p><a>https://keras.io/api/models/sequential/</a></p>\n",
    "<p><a>https://keras.io/api/layers/activations/</a></p>\n",
    "<p><a>https://keras.io/api/layers/convolution_layers/convolution1d/</a></p>\n",
    "<p><a>https://keras.io/api/layers/pooling_layers/max_pooling1d/</a></p>\n",
    "<p><a>https://keras.io/api/layers/regularization_layers/dropout/</a></p>\n",
    "<p><a>https://keras.io/api/layers/activation_layers/relu/+++</a></p>\n",
    "<p><a>https://stackoverflow.com/questions/51175884/error-of-shape-using-conv1d-in-keras</a></p>\n",
    "<p><a>https://stackoverflow.com/questions/52934764/keras-adaptive-max-pooling</a></p>\n",
    "<p><a>https://keras.io/api/layers/recurrent_layers/lstm/</a></p>\n",
    "<p><a>https://keras.io/api/layers/core_layers/embedding/</a></p>\n",
    "<p><a>https://keras.io/api/optimizers/adam/</a></p>\n",
    "    <p><a>https://www.w3schools.com/python/matplotlib_histograms.asp</a></p>\n",
    "    <p><a>https://www.tensorflow.org/api_docs/python/tf/keras/preprocessing/text/Tokenizer</a></p>"
   ]
  }
 ],
 "metadata": {
  "kernelspec": {
   "display_name": "Python 3 (ipykernel)",
   "language": "python",
   "name": "python3"
  },
  "language_info": {
   "codemirror_mode": {
    "name": "ipython",
    "version": 3
   },
   "file_extension": ".py",
   "mimetype": "text/x-python",
   "name": "python",
   "nbconvert_exporter": "python",
   "pygments_lexer": "ipython3",
   "version": "3.11.5"
  }
 },
 "nbformat": 4,
 "nbformat_minor": 5
}
